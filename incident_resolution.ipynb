{
  "nbformat": 4,
  "nbformat_minor": 0,
  "metadata": {
    "colab": {
      "name": "merilytics.ipynb",
      "provenance": [],
      "collapsed_sections": []
    },
    "kernelspec": {
      "name": "python3",
      "display_name": "Python 3"
    },
    "language_info": {
      "name": "python"
    }
  },
  "cells": [
    {
      "cell_type": "code",
      "metadata": {
        "id": "PksHqyXF0BCu"
      },
      "source": [
        "import pandas as pd\n",
        "import numpy as np\n",
        "from sklearn.preprocessing import StandardScaler\n",
        "from sklearn.tree import DecisionTreeRegressor\n",
        "from sklearn.ensemble import RandomForestClassifier, RandomForestRegressor\n",
        "from sklearn.model_selection import train_test_split\n",
        "from sklearn.metrics import accuracy_score,mean_absolute_error,confusion_matrix,roc_auc_score, recall_score"
      ],
      "execution_count": 67,
      "outputs": []
    },
    {
      "cell_type": "code",
      "metadata": {
        "id": "tTHTdgnagwPw"
      },
      "source": [
        "import matplotlib.pyplot as plt\n",
        "import seaborn as sns\n",
        "\n",
        "from sklearn.model_selection import GridSearchCV"
      ],
      "execution_count": 115,
      "outputs": []
    },
    {
      "cell_type": "code",
      "metadata": {
        "id": "FHTpGF-i0JgG"
      },
      "source": [
        "pd.set_option('display.max_columns', None)\n",
        "pd.set_option('display.max_rows', None)"
      ],
      "execution_count": 4,
      "outputs": []
    },
    {
      "cell_type": "markdown",
      "metadata": {
        "id": "3A2tx8OFbcx0"
      },
      "source": [
        "# Load Data"
      ]
    },
    {
      "cell_type": "code",
      "metadata": {
        "colab": {
          "base_uri": "https://localhost:8080/"
        },
        "id": "w1D5w6iJblmz",
        "outputId": "6a13dc2a-abdb-46b8-d646-b02abda02961"
      },
      "source": [
        "df = pd.read_csv('incident_event_log.csv', na_values=['?'])"
      ],
      "execution_count": 107,
      "outputs": [
        {
          "output_type": "stream",
          "name": "stderr",
          "text": [
            "/usr/local/lib/python3.7/dist-packages/IPython/core/interactiveshell.py:2718: DtypeWarning: Columns (31) have mixed types.Specify dtype option on import or set low_memory=False.\n",
            "  interactivity=interactivity, compiler=compiler, result=result)\n"
          ]
        }
      ]
    },
    {
      "cell_type": "code",
      "metadata": {
        "colab": {
          "base_uri": "https://localhost:8080/"
        },
        "id": "jXZYJUIBcLwA",
        "outputId": "298aa9d5-0780-49a9-ca29-1576b3667e18"
      },
      "source": [
        "df.shape"
      ],
      "execution_count": 108,
      "outputs": [
        {
          "output_type": "execute_result",
          "data": {
            "text/plain": [
              "(119998, 36)"
            ]
          },
          "metadata": {},
          "execution_count": 108
        }
      ]
    },
    {
      "cell_type": "code",
      "metadata": {
        "colab": {
          "base_uri": "https://localhost:8080/"
        },
        "id": "x92fKAwSerlj",
        "outputId": "bd315f74-a35d-48a9-aeb2-957805eea494"
      },
      "source": [
        "df.columns"
      ],
      "execution_count": 9,
      "outputs": [
        {
          "output_type": "execute_result",
          "data": {
            "text/plain": [
              "Index(['number', 'incident_state', 'active', 'reassignment_count',\n",
              "       'reopen_count', 'sys_mod_count', 'made_sla', 'caller_id', 'opened_by',\n",
              "       'opened_at', 'sys_created_by', 'sys_created_at', 'sys_updated_by',\n",
              "       'sys_updated_at', 'contact_type', 'location', 'category', 'subcategory',\n",
              "       'u_symptom', 'cmdb_ci', 'impact', 'urgency', 'priority',\n",
              "       'assignment_group', 'assigned_to', 'knowledge',\n",
              "       'u_priority_confirmation', 'notify', 'problem_id', 'rfc', 'vendor',\n",
              "       'caused_by', 'closed_code', 'resolved_by', 'resolved_at', 'closed_at'],\n",
              "      dtype='object')"
            ]
          },
          "metadata": {},
          "execution_count": 9
        }
      ]
    },
    {
      "cell_type": "code",
      "metadata": {
        "colab": {
          "base_uri": "https://localhost:8080/",
          "height": 309
        },
        "id": "gNysRd_tgIdu",
        "outputId": "c976376f-7779-4d7f-8343-8aa66c91b12b"
      },
      "source": [
        "df.head()"
      ],
      "execution_count": 10,
      "outputs": [
        {
          "output_type": "execute_result",
          "data": {
            "text/html": [
              "<div>\n",
              "<style scoped>\n",
              "    .dataframe tbody tr th:only-of-type {\n",
              "        vertical-align: middle;\n",
              "    }\n",
              "\n",
              "    .dataframe tbody tr th {\n",
              "        vertical-align: top;\n",
              "    }\n",
              "\n",
              "    .dataframe thead th {\n",
              "        text-align: right;\n",
              "    }\n",
              "</style>\n",
              "<table border=\"1\" class=\"dataframe\">\n",
              "  <thead>\n",
              "    <tr style=\"text-align: right;\">\n",
              "      <th></th>\n",
              "      <th>number</th>\n",
              "      <th>incident_state</th>\n",
              "      <th>active</th>\n",
              "      <th>reassignment_count</th>\n",
              "      <th>reopen_count</th>\n",
              "      <th>sys_mod_count</th>\n",
              "      <th>made_sla</th>\n",
              "      <th>caller_id</th>\n",
              "      <th>opened_by</th>\n",
              "      <th>opened_at</th>\n",
              "      <th>sys_created_by</th>\n",
              "      <th>sys_created_at</th>\n",
              "      <th>sys_updated_by</th>\n",
              "      <th>sys_updated_at</th>\n",
              "      <th>contact_type</th>\n",
              "      <th>location</th>\n",
              "      <th>category</th>\n",
              "      <th>subcategory</th>\n",
              "      <th>u_symptom</th>\n",
              "      <th>cmdb_ci</th>\n",
              "      <th>impact</th>\n",
              "      <th>urgency</th>\n",
              "      <th>priority</th>\n",
              "      <th>assignment_group</th>\n",
              "      <th>assigned_to</th>\n",
              "      <th>knowledge</th>\n",
              "      <th>u_priority_confirmation</th>\n",
              "      <th>notify</th>\n",
              "      <th>problem_id</th>\n",
              "      <th>rfc</th>\n",
              "      <th>vendor</th>\n",
              "      <th>caused_by</th>\n",
              "      <th>closed_code</th>\n",
              "      <th>resolved_by</th>\n",
              "      <th>resolved_at</th>\n",
              "      <th>closed_at</th>\n",
              "    </tr>\n",
              "  </thead>\n",
              "  <tbody>\n",
              "    <tr>\n",
              "      <th>0</th>\n",
              "      <td>INC0000045</td>\n",
              "      <td>New</td>\n",
              "      <td>True</td>\n",
              "      <td>0</td>\n",
              "      <td>0</td>\n",
              "      <td>0</td>\n",
              "      <td>True</td>\n",
              "      <td>Caller 2403</td>\n",
              "      <td>Opened by  8</td>\n",
              "      <td>29/2/2016 01:16</td>\n",
              "      <td>Created by 6</td>\n",
              "      <td>29/2/2016 01:23</td>\n",
              "      <td>Updated by 21</td>\n",
              "      <td>29/2/2016 01:23</td>\n",
              "      <td>Phone</td>\n",
              "      <td>Location 143</td>\n",
              "      <td>Category 55</td>\n",
              "      <td>Subcategory 170</td>\n",
              "      <td>Symptom 72</td>\n",
              "      <td>NaN</td>\n",
              "      <td>2 - Medium</td>\n",
              "      <td>2 - Medium</td>\n",
              "      <td>3 - Moderate</td>\n",
              "      <td>Group 56</td>\n",
              "      <td>NaN</td>\n",
              "      <td>True</td>\n",
              "      <td>False</td>\n",
              "      <td>Do Not Notify</td>\n",
              "      <td>NaN</td>\n",
              "      <td>NaN</td>\n",
              "      <td>NaN</td>\n",
              "      <td>NaN</td>\n",
              "      <td>code 5</td>\n",
              "      <td>Resolved by 149</td>\n",
              "      <td>29/2/2016 11:29</td>\n",
              "      <td>5/3/2016 12:00</td>\n",
              "    </tr>\n",
              "    <tr>\n",
              "      <th>1</th>\n",
              "      <td>INC0000045</td>\n",
              "      <td>Resolved</td>\n",
              "      <td>True</td>\n",
              "      <td>0</td>\n",
              "      <td>0</td>\n",
              "      <td>2</td>\n",
              "      <td>True</td>\n",
              "      <td>Caller 2403</td>\n",
              "      <td>Opened by  8</td>\n",
              "      <td>29/2/2016 01:16</td>\n",
              "      <td>Created by 6</td>\n",
              "      <td>29/2/2016 01:23</td>\n",
              "      <td>Updated by 642</td>\n",
              "      <td>29/2/2016 08:53</td>\n",
              "      <td>Phone</td>\n",
              "      <td>Location 143</td>\n",
              "      <td>Category 55</td>\n",
              "      <td>Subcategory 170</td>\n",
              "      <td>Symptom 72</td>\n",
              "      <td>NaN</td>\n",
              "      <td>2 - Medium</td>\n",
              "      <td>2 - Medium</td>\n",
              "      <td>3 - Moderate</td>\n",
              "      <td>Group 56</td>\n",
              "      <td>NaN</td>\n",
              "      <td>True</td>\n",
              "      <td>False</td>\n",
              "      <td>Do Not Notify</td>\n",
              "      <td>NaN</td>\n",
              "      <td>NaN</td>\n",
              "      <td>NaN</td>\n",
              "      <td>NaN</td>\n",
              "      <td>code 5</td>\n",
              "      <td>Resolved by 149</td>\n",
              "      <td>29/2/2016 11:29</td>\n",
              "      <td>5/3/2016 12:00</td>\n",
              "    </tr>\n",
              "    <tr>\n",
              "      <th>2</th>\n",
              "      <td>INC0000045</td>\n",
              "      <td>Resolved</td>\n",
              "      <td>True</td>\n",
              "      <td>0</td>\n",
              "      <td>0</td>\n",
              "      <td>3</td>\n",
              "      <td>True</td>\n",
              "      <td>Caller 2403</td>\n",
              "      <td>Opened by  8</td>\n",
              "      <td>29/2/2016 01:16</td>\n",
              "      <td>Created by 6</td>\n",
              "      <td>29/2/2016 01:23</td>\n",
              "      <td>Updated by 804</td>\n",
              "      <td>29/2/2016 11:29</td>\n",
              "      <td>Phone</td>\n",
              "      <td>Location 143</td>\n",
              "      <td>Category 55</td>\n",
              "      <td>Subcategory 170</td>\n",
              "      <td>Symptom 72</td>\n",
              "      <td>NaN</td>\n",
              "      <td>2 - Medium</td>\n",
              "      <td>2 - Medium</td>\n",
              "      <td>3 - Moderate</td>\n",
              "      <td>Group 56</td>\n",
              "      <td>NaN</td>\n",
              "      <td>True</td>\n",
              "      <td>False</td>\n",
              "      <td>Do Not Notify</td>\n",
              "      <td>NaN</td>\n",
              "      <td>NaN</td>\n",
              "      <td>NaN</td>\n",
              "      <td>NaN</td>\n",
              "      <td>code 5</td>\n",
              "      <td>Resolved by 149</td>\n",
              "      <td>29/2/2016 11:29</td>\n",
              "      <td>5/3/2016 12:00</td>\n",
              "    </tr>\n",
              "    <tr>\n",
              "      <th>3</th>\n",
              "      <td>INC0000045</td>\n",
              "      <td>Closed</td>\n",
              "      <td>False</td>\n",
              "      <td>0</td>\n",
              "      <td>0</td>\n",
              "      <td>4</td>\n",
              "      <td>True</td>\n",
              "      <td>Caller 2403</td>\n",
              "      <td>Opened by  8</td>\n",
              "      <td>29/2/2016 01:16</td>\n",
              "      <td>Created by 6</td>\n",
              "      <td>29/2/2016 01:23</td>\n",
              "      <td>Updated by 908</td>\n",
              "      <td>5/3/2016 12:00</td>\n",
              "      <td>Phone</td>\n",
              "      <td>Location 143</td>\n",
              "      <td>Category 55</td>\n",
              "      <td>Subcategory 170</td>\n",
              "      <td>Symptom 72</td>\n",
              "      <td>NaN</td>\n",
              "      <td>2 - Medium</td>\n",
              "      <td>2 - Medium</td>\n",
              "      <td>3 - Moderate</td>\n",
              "      <td>Group 56</td>\n",
              "      <td>NaN</td>\n",
              "      <td>True</td>\n",
              "      <td>False</td>\n",
              "      <td>Do Not Notify</td>\n",
              "      <td>NaN</td>\n",
              "      <td>NaN</td>\n",
              "      <td>NaN</td>\n",
              "      <td>NaN</td>\n",
              "      <td>code 5</td>\n",
              "      <td>Resolved by 149</td>\n",
              "      <td>29/2/2016 11:29</td>\n",
              "      <td>5/3/2016 12:00</td>\n",
              "    </tr>\n",
              "    <tr>\n",
              "      <th>4</th>\n",
              "      <td>INC0000047</td>\n",
              "      <td>New</td>\n",
              "      <td>True</td>\n",
              "      <td>0</td>\n",
              "      <td>0</td>\n",
              "      <td>0</td>\n",
              "      <td>True</td>\n",
              "      <td>Caller 2403</td>\n",
              "      <td>Opened by  397</td>\n",
              "      <td>29/2/2016 04:40</td>\n",
              "      <td>Created by 171</td>\n",
              "      <td>29/2/2016 04:57</td>\n",
              "      <td>Updated by 746</td>\n",
              "      <td>29/2/2016 04:57</td>\n",
              "      <td>Phone</td>\n",
              "      <td>Location 165</td>\n",
              "      <td>Category 40</td>\n",
              "      <td>Subcategory 215</td>\n",
              "      <td>Symptom 471</td>\n",
              "      <td>NaN</td>\n",
              "      <td>2 - Medium</td>\n",
              "      <td>2 - Medium</td>\n",
              "      <td>3 - Moderate</td>\n",
              "      <td>Group 70</td>\n",
              "      <td>Resolver 89</td>\n",
              "      <td>True</td>\n",
              "      <td>False</td>\n",
              "      <td>Do Not Notify</td>\n",
              "      <td>NaN</td>\n",
              "      <td>NaN</td>\n",
              "      <td>NaN</td>\n",
              "      <td>NaN</td>\n",
              "      <td>code 5</td>\n",
              "      <td>Resolved by 81</td>\n",
              "      <td>1/3/2016 09:52</td>\n",
              "      <td>6/3/2016 10:00</td>\n",
              "    </tr>\n",
              "  </tbody>\n",
              "</table>\n",
              "</div>"
            ],
            "text/plain": [
              "       number incident_state  active  reassignment_count  reopen_count  \\\n",
              "0  INC0000045            New    True                   0             0   \n",
              "1  INC0000045       Resolved    True                   0             0   \n",
              "2  INC0000045       Resolved    True                   0             0   \n",
              "3  INC0000045         Closed   False                   0             0   \n",
              "4  INC0000047            New    True                   0             0   \n",
              "\n",
              "   sys_mod_count  made_sla    caller_id       opened_by        opened_at  \\\n",
              "0              0      True  Caller 2403    Opened by  8  29/2/2016 01:16   \n",
              "1              2      True  Caller 2403    Opened by  8  29/2/2016 01:16   \n",
              "2              3      True  Caller 2403    Opened by  8  29/2/2016 01:16   \n",
              "3              4      True  Caller 2403    Opened by  8  29/2/2016 01:16   \n",
              "4              0      True  Caller 2403  Opened by  397  29/2/2016 04:40   \n",
              "\n",
              "   sys_created_by   sys_created_at  sys_updated_by   sys_updated_at  \\\n",
              "0    Created by 6  29/2/2016 01:23   Updated by 21  29/2/2016 01:23   \n",
              "1    Created by 6  29/2/2016 01:23  Updated by 642  29/2/2016 08:53   \n",
              "2    Created by 6  29/2/2016 01:23  Updated by 804  29/2/2016 11:29   \n",
              "3    Created by 6  29/2/2016 01:23  Updated by 908   5/3/2016 12:00   \n",
              "4  Created by 171  29/2/2016 04:57  Updated by 746  29/2/2016 04:57   \n",
              "\n",
              "  contact_type      location     category      subcategory    u_symptom  \\\n",
              "0        Phone  Location 143  Category 55  Subcategory 170   Symptom 72   \n",
              "1        Phone  Location 143  Category 55  Subcategory 170   Symptom 72   \n",
              "2        Phone  Location 143  Category 55  Subcategory 170   Symptom 72   \n",
              "3        Phone  Location 143  Category 55  Subcategory 170   Symptom 72   \n",
              "4        Phone  Location 165  Category 40  Subcategory 215  Symptom 471   \n",
              "\n",
              "  cmdb_ci      impact     urgency      priority assignment_group  assigned_to  \\\n",
              "0     NaN  2 - Medium  2 - Medium  3 - Moderate         Group 56          NaN   \n",
              "1     NaN  2 - Medium  2 - Medium  3 - Moderate         Group 56          NaN   \n",
              "2     NaN  2 - Medium  2 - Medium  3 - Moderate         Group 56          NaN   \n",
              "3     NaN  2 - Medium  2 - Medium  3 - Moderate         Group 56          NaN   \n",
              "4     NaN  2 - Medium  2 - Medium  3 - Moderate         Group 70  Resolver 89   \n",
              "\n",
              "   knowledge  u_priority_confirmation         notify problem_id  rfc vendor  \\\n",
              "0       True                    False  Do Not Notify        NaN  NaN    NaN   \n",
              "1       True                    False  Do Not Notify        NaN  NaN    NaN   \n",
              "2       True                    False  Do Not Notify        NaN  NaN    NaN   \n",
              "3       True                    False  Do Not Notify        NaN  NaN    NaN   \n",
              "4       True                    False  Do Not Notify        NaN  NaN    NaN   \n",
              "\n",
              "  caused_by closed_code      resolved_by      resolved_at       closed_at  \n",
              "0       NaN      code 5  Resolved by 149  29/2/2016 11:29  5/3/2016 12:00  \n",
              "1       NaN      code 5  Resolved by 149  29/2/2016 11:29  5/3/2016 12:00  \n",
              "2       NaN      code 5  Resolved by 149  29/2/2016 11:29  5/3/2016 12:00  \n",
              "3       NaN      code 5  Resolved by 149  29/2/2016 11:29  5/3/2016 12:00  \n",
              "4       NaN      code 5   Resolved by 81   1/3/2016 09:52  6/3/2016 10:00  "
            ]
          },
          "metadata": {},
          "execution_count": 10
        }
      ]
    },
    {
      "cell_type": "markdown",
      "metadata": {
        "id": "I162jQTdCe8M"
      },
      "source": [
        "# EDA & Preprocessing"
      ]
    },
    {
      "cell_type": "code",
      "metadata": {
        "colab": {
          "base_uri": "https://localhost:8080/"
        },
        "id": "MkMVuMt2gUoa",
        "outputId": "ec9dc354-cc89-4eb6-ae96-bf5f39077be3"
      },
      "source": [
        "df.nunique()"
      ],
      "execution_count": null,
      "outputs": [
        {
          "output_type": "execute_result",
          "data": {
            "text/plain": [
              "number                     20769\n",
              "incident_state                 9\n",
              "active                         2\n",
              "reassignment_count            28\n",
              "reopen_count                   9\n",
              "sys_mod_count                115\n",
              "made_sla                       2\n",
              "caller_id                   4828\n",
              "opened_by                    156\n",
              "opened_at                  16349\n",
              "sys_created_by               149\n",
              "sys_created_at              9979\n",
              "sys_updated_by               714\n",
              "sys_updated_at             41969\n",
              "contact_type                   2\n",
              "location                     202\n",
              "category                      44\n",
              "subcategory                  220\n",
              "u_symptom                    499\n",
              "cmdb_ci                       48\n",
              "impact                         3\n",
              "urgency                        3\n",
              "priority                       4\n",
              "assignment_group              72\n",
              "assigned_to                  208\n",
              "knowledge                      2\n",
              "u_priority_confirmation        2\n",
              "notify                         2\n",
              "problem_id                   215\n",
              "rfc                          162\n",
              "vendor                         4\n",
              "caused_by                      2\n",
              "closed_code                   16\n",
              "resolved_by                  190\n",
              "resolved_at                15332\n",
              "closed_at                   2013\n",
              "dtype: int64"
            ]
          },
          "metadata": {},
          "execution_count": 9
        }
      ]
    },
    {
      "cell_type": "code",
      "metadata": {
        "colab": {
          "base_uri": "https://localhost:8080/"
        },
        "id": "9nqWHork8bDW",
        "outputId": "e6fe3403-1168-4708-8aef-ad1d8f2b37c6"
      },
      "source": [
        "df.drop_duplicates().shape"
      ],
      "execution_count": null,
      "outputs": [
        {
          "output_type": "execute_result",
          "data": {
            "text/plain": [
              "(119998, 36)"
            ]
          },
          "metadata": {},
          "execution_count": 10
        }
      ]
    },
    {
      "cell_type": "code",
      "metadata": {
        "colab": {
          "base_uri": "https://localhost:8080/"
        },
        "id": "clAYkXoZ8x1y",
        "outputId": "7a7d9e6d-6a4a-4b2d-8f81-dd484540ac2c"
      },
      "source": [
        "df.isnull().sum()"
      ],
      "execution_count": null,
      "outputs": [
        {
          "output_type": "execute_result",
          "data": {
            "text/plain": [
              "number                          0\n",
              "incident_state                  0\n",
              "active                          0\n",
              "reassignment_count              0\n",
              "reopen_count                    0\n",
              "sys_mod_count                   0\n",
              "made_sla                        0\n",
              "caller_id                      29\n",
              "opened_by                    4835\n",
              "opened_at                       0\n",
              "sys_created_by              42354\n",
              "sys_created_at              42354\n",
              "sys_updated_by                  0\n",
              "sys_updated_at                  0\n",
              "contact_type                    0\n",
              "location                       76\n",
              "category                       64\n",
              "subcategory                    97\n",
              "u_symptom                   28271\n",
              "cmdb_ci                    119562\n",
              "impact                          0\n",
              "urgency                         0\n",
              "priority                        0\n",
              "assignment_group            14213\n",
              "assigned_to                 23030\n",
              "knowledge                       0\n",
              "u_priority_confirmation         0\n",
              "notify                          0\n",
              "problem_id                 118061\n",
              "rfc                        119116\n",
              "vendor                     119816\n",
              "caused_by                  119980\n",
              "closed_code                   525\n",
              "resolved_by                   202\n",
              "resolved_at                  2861\n",
              "closed_at                       0\n",
              "dtype: int64"
            ]
          },
          "metadata": {},
          "execution_count": 11
        }
      ]
    },
    {
      "cell_type": "code",
      "metadata": {
        "id": "80GwO_CJ9aVD"
      },
      "source": [
        "# Dropping as these columns have most null values\n",
        "df.drop(columns=['cmdb_ci', 'problem_id', 'rfc', 'vendor', 'caused_by'], inplace=True)"
      ],
      "execution_count": 109,
      "outputs": []
    },
    {
      "cell_type": "code",
      "metadata": {
        "id": "1Dl8zIkCsWlo"
      },
      "source": [
        "# Dropping as these columns doesn't give any value\n",
        "df.drop(columns=['caller_id' ,'sys_created_by', 'sys_created_at'], inplace=True)"
      ],
      "execution_count": 110,
      "outputs": []
    },
    {
      "cell_type": "code",
      "metadata": {
        "colab": {
          "base_uri": "https://localhost:8080/"
        },
        "id": "C-VZ2NtV1AJ0",
        "outputId": "0bc71c4e-3f32-415b-95ec-b4880c770ce5"
      },
      "source": [
        "df.shape"
      ],
      "execution_count": 111,
      "outputs": [
        {
          "output_type": "execute_result",
          "data": {
            "text/plain": [
              "(119998, 28)"
            ]
          },
          "metadata": {},
          "execution_count": 111
        }
      ]
    },
    {
      "cell_type": "code",
      "metadata": {
        "id": "2JTFfvQr1Bfm"
      },
      "source": [
        "df_incident = pd.DataFrame(df.groupby('number')['number'].count())"
      ],
      "execution_count": null,
      "outputs": []
    },
    {
      "cell_type": "code",
      "metadata": {
        "colab": {
          "base_uri": "https://localhost:8080/",
          "height": 297
        },
        "id": "pCISRtD85Y9L",
        "outputId": "ad358503-3a69-4ae5-eb78-30aef07de6ef"
      },
      "source": [
        "df_incident.describe()"
      ],
      "execution_count": null,
      "outputs": [
        {
          "output_type": "execute_result",
          "data": {
            "text/html": [
              "<div>\n",
              "<style scoped>\n",
              "    .dataframe tbody tr th:only-of-type {\n",
              "        vertical-align: middle;\n",
              "    }\n",
              "\n",
              "    .dataframe tbody tr th {\n",
              "        vertical-align: top;\n",
              "    }\n",
              "\n",
              "    .dataframe thead th {\n",
              "        text-align: right;\n",
              "    }\n",
              "</style>\n",
              "<table border=\"1\" class=\"dataframe\">\n",
              "  <thead>\n",
              "    <tr style=\"text-align: right;\">\n",
              "      <th></th>\n",
              "      <th>number</th>\n",
              "    </tr>\n",
              "  </thead>\n",
              "  <tbody>\n",
              "    <tr>\n",
              "      <th>count</th>\n",
              "      <td>20769.000000</td>\n",
              "    </tr>\n",
              "    <tr>\n",
              "      <th>mean</th>\n",
              "      <td>5.777746</td>\n",
              "    </tr>\n",
              "    <tr>\n",
              "      <th>std</th>\n",
              "      <td>3.745015</td>\n",
              "    </tr>\n",
              "    <tr>\n",
              "      <th>min</th>\n",
              "      <td>1.000000</td>\n",
              "    </tr>\n",
              "    <tr>\n",
              "      <th>25%</th>\n",
              "      <td>3.000000</td>\n",
              "    </tr>\n",
              "    <tr>\n",
              "      <th>50%</th>\n",
              "      <td>5.000000</td>\n",
              "    </tr>\n",
              "    <tr>\n",
              "      <th>75%</th>\n",
              "      <td>7.000000</td>\n",
              "    </tr>\n",
              "    <tr>\n",
              "      <th>max</th>\n",
              "      <td>58.000000</td>\n",
              "    </tr>\n",
              "  </tbody>\n",
              "</table>\n",
              "</div>"
            ],
            "text/plain": [
              "             number\n",
              "count  20769.000000\n",
              "mean       5.777746\n",
              "std        3.745015\n",
              "min        1.000000\n",
              "25%        3.000000\n",
              "50%        5.000000\n",
              "75%        7.000000\n",
              "max       58.000000"
            ]
          },
          "metadata": {},
          "execution_count": 15
        }
      ]
    },
    {
      "cell_type": "code",
      "metadata": {
        "colab": {
          "base_uri": "https://localhost:8080/",
          "height": 366
        },
        "id": "cDsbDWnry0UV",
        "outputId": "bbfd64d9-2391-412c-a2b5-7e4a5011dd8f"
      },
      "source": [
        "df['incident_state'].value_counts().plot(kind='bar')"
      ],
      "execution_count": 114,
      "outputs": [
        {
          "output_type": "execute_result",
          "data": {
            "text/plain": [
              "<matplotlib.axes._subplots.AxesSubplot at 0x7fd8e0e0cb50>"
            ]
          },
          "metadata": {},
          "execution_count": 114
        },
        {
          "output_type": "display_data",
          "data": {
            "image/png": "[encoded data removed]",
            "text/plain": [
              "<Figure size 432x288 with 1 Axes>"
            ]
          },
          "metadata": {
            "needs_background": "light"
          }
        }
      ]
    },
    {
      "cell_type": "code",
      "metadata": {
        "id": "_R6ZSKDD8l0a",
        "colab": {
          "base_uri": "https://localhost:8080/"
        },
        "outputId": "8f2107b7-b106-465c-eee4-03a265e2e677"
      },
      "source": [
        "df['incident_state'].value_counts()"
      ],
      "execution_count": null,
      "outputs": [
        {
          "output_type": "execute_result",
          "data": {
            "text/plain": [
              "Active                33582\n",
              "New                   30229\n",
              "Resolved              21500\n",
              "Closed                20825\n",
              "Awaiting User Info    12884\n",
              "Awaiting Vendor         557\n",
              "Awaiting Problem        400\n",
              "Awaiting Evidence        19\n",
              "-100                      2\n",
              "Name: incident_state, dtype: int64"
            ]
          },
          "metadata": {},
          "execution_count": 16
        }
      ]
    },
    {
      "cell_type": "code",
      "metadata": {
        "colab": {
          "base_uri": "https://localhost:8080/"
        },
        "id": "inAdgzSkQMZF",
        "outputId": "9ff84bf9-adac-4c9d-f57a-ef0abf41c927"
      },
      "source": [
        "df[df['active']==False]['incident_state'].value_counts()"
      ],
      "execution_count": 112,
      "outputs": [
        {
          "output_type": "execute_result",
          "data": {
            "text/plain": [
              "Closed      20825\n",
              "Resolved        1\n",
              "Name: incident_state, dtype: int64"
            ]
          },
          "metadata": {},
          "execution_count": 112
        }
      ]
    },
    {
      "cell_type": "code",
      "metadata": {
        "id": "ea-Nn00Exa5Y"
      },
      "source": [
        "### Column active is highly correlated to incident_state. So dropping it\n",
        "df.drop(columns=['active'], inplace=True)"
      ],
      "execution_count": 113,
      "outputs": []
    },
    {
      "cell_type": "code",
      "metadata": {
        "colab": {
          "base_uri": "https://localhost:8080/"
        },
        "id": "T4hXe7dVQd2v",
        "outputId": "cd8c7338-0df4-43cc-f9cd-643a2f9dcedb"
      },
      "source": [
        "df['made_sla'].value_counts()"
      ],
      "execution_count": null,
      "outputs": [
        {
          "output_type": "execute_result",
          "data": {
            "text/plain": [
              "True     111738\n",
              "False      8260\n",
              "Name: made_sla, dtype: int64"
            ]
          },
          "metadata": {},
          "execution_count": 18
        }
      ]
    },
    {
      "cell_type": "code",
      "metadata": {
        "colab": {
          "base_uri": "https://localhost:8080/"
        },
        "id": "7Td7PobmSaG1",
        "outputId": "5455e0cb-f548-4e9f-fdbf-e508b5640610"
      },
      "source": [
        "df['category'].value_counts()"
      ],
      "execution_count": null,
      "outputs": [
        {
          "output_type": "execute_result",
          "data": {
            "text/plain": [
              "Category 26    16291\n",
              "Category 53    14033\n",
              "Category 42    13007\n",
              "Category 46    10846\n",
              "Category 23     6459\n",
              "Category 32     6187\n",
              "Category 9      6146\n",
              "Category 37     5515\n",
              "Category 57     4858\n",
              "Category 20     4773\n",
              "Category 61     4477\n",
              "Category 24     3953\n",
              "Category 34     3570\n",
              "Category 40     3467\n",
              "Category 45     3271\n",
              "Category 51     2245\n",
              "Category 28     1945\n",
              "Category 35     1822\n",
              "Category 44     1584\n",
              "Category 19     1314\n",
              "Category 13      941\n",
              "Category 55      801\n",
              "Category 43      647\n",
              "Category 17      455\n",
              "Category 22      399\n",
              "Category 38      232\n",
              "Category 8       226\n",
              "Category 7       156\n",
              "Category 63       78\n",
              "Category 56       55\n",
              "Category 47       50\n",
              "Category 41       36\n",
              "Category 62       25\n",
              "Category 54       17\n",
              "Category 31       15\n",
              "Category 30       15\n",
              "Category 25        6\n",
              "Category 4         5\n",
              "Category 15        3\n",
              "Category 27        2\n",
              "Category 49        2\n",
              "Category 29        2\n",
              "Category 36        2\n",
              "Category 3         1\n",
              "Name: category, dtype: int64"
            ]
          },
          "metadata": {},
          "execution_count": 21
        }
      ]
    },
    {
      "cell_type": "code",
      "metadata": {
        "colab": {
          "base_uri": "https://localhost:8080/",
          "height": 329
        },
        "id": "z4FaeC3PC2Ww",
        "outputId": "d2217efd-e964-4c4d-868d-2d5f0391facd"
      },
      "source": [
        "df['urgency'].value_counts().plot(kind='bar')"
      ],
      "execution_count": 148,
      "outputs": [
        {
          "output_type": "execute_result",
          "data": {
            "text/plain": [
              "<matplotlib.axes._subplots.AxesSubplot at 0x7fd8ddfd0c90>"
            ]
          },
          "metadata": {},
          "execution_count": 148
        },
        {
          "output_type": "display_data",
          "data": {
            "image/png": "[encoded data removed]",
            "text/plain": [
              "<Figure size 432x288 with 1 Axes>"
            ]
          },
          "metadata": {
            "needs_background": "light"
          }
        }
      ]
    },
    {
      "cell_type": "code",
      "metadata": {
        "colab": {
          "base_uri": "https://localhost:8080/"
        },
        "id": "xhvL6wQhXkex",
        "outputId": "31de10ca-e1cc-4015-f594-1118b3b6f8b1"
      },
      "source": [
        "df['impact'].value_counts()"
      ],
      "execution_count": null,
      "outputs": [
        {
          "output_type": "execute_result",
          "data": {
            "text/plain": [
              "2 - Medium    113691\n",
              "3 - Low         3418\n",
              "1 - High        2889\n",
              "Name: impact, dtype: int64"
            ]
          },
          "metadata": {},
          "execution_count": 24
        }
      ]
    },
    {
      "cell_type": "code",
      "metadata": {
        "colab": {
          "base_uri": "https://localhost:8080/"
        },
        "id": "8pN8izD3gQFR",
        "outputId": "335fdf71-d01b-43ef-c76c-a1686a5f8293"
      },
      "source": [
        "df['urgency'].value_counts()"
      ],
      "execution_count": null,
      "outputs": [
        {
          "output_type": "execute_result",
          "data": {
            "text/plain": [
              "2 - Medium    113550\n",
              "1 - High        3303\n",
              "3 - Low         3145\n",
              "Name: urgency, dtype: int64"
            ]
          },
          "metadata": {},
          "execution_count": 25
        }
      ]
    },
    {
      "cell_type": "code",
      "metadata": {
        "colab": {
          "base_uri": "https://localhost:8080/"
        },
        "id": "v-12NS3IgUDS",
        "outputId": "058b6b57-37e3-4f1b-b8d7-0be2ea73d172"
      },
      "source": [
        "df['priority'].value_counts()"
      ],
      "execution_count": null,
      "outputs": [
        {
          "output_type": "execute_result",
          "data": {
            "text/plain": [
              "3 - Moderate    112115\n",
              "4 - Low           3549\n",
              "2 - High          2499\n",
              "1 - Critical      1835\n",
              "Name: priority, dtype: int64"
            ]
          },
          "metadata": {},
          "execution_count": 26
        }
      ]
    },
    {
      "cell_type": "code",
      "metadata": {
        "colab": {
          "base_uri": "https://localhost:8080/"
        },
        "id": "xAlmZGe_0Ygd",
        "outputId": "98e94684-bbbe-45c1-d3b2-5096b4923871"
      },
      "source": [
        "print(df[df['urgency']=='3 - Low']['priority'].value_counts())\n",
        "print(df[df['urgency']=='1 - High']['priority'].value_counts())"
      ],
      "execution_count": 124,
      "outputs": [
        {
          "output_type": "stream",
          "name": "stdout",
          "text": [
            "4 - Low    3145\n",
            "Name: priority, dtype: int64\n",
            "1 - Critical    1835\n",
            "2 - High        1445\n",
            "3 - Moderate      23\n",
            "Name: priority, dtype: int64\n"
          ]
        }
      ]
    },
    {
      "cell_type": "code",
      "metadata": {
        "id": "P1jzQV5h0nPV"
      },
      "source": [
        "### Columns urgency and priority are highly correlated. So dropping priority and u_priority_confirmation columns\n",
        "df.drop(columns=['priority','u_priority_confirmation'], inplace=True)"
      ],
      "execution_count": 125,
      "outputs": []
    },
    {
      "cell_type": "code",
      "metadata": {
        "colab": {
          "base_uri": "https://localhost:8080/"
        },
        "id": "6CO9-LSnhc9W",
        "outputId": "c5b1ace2-d69b-4d10-ef6e-60cc925cc69e"
      },
      "source": [
        "df['knowledge'].value_counts()"
      ],
      "execution_count": null,
      "outputs": [
        {
          "output_type": "execute_result",
          "data": {
            "text/plain": [
              "False    94664\n",
              "True     25334\n",
              "Name: knowledge, dtype: int64"
            ]
          },
          "metadata": {},
          "execution_count": 29
        }
      ]
    },
    {
      "cell_type": "code",
      "metadata": {
        "colab": {
          "base_uri": "https://localhost:8080/"
        },
        "id": "ryskf2-8ibug",
        "outputId": "14ed5592-8f0c-4f9b-dc9d-c2d13eb6e575"
      },
      "source": [
        "df['notify'].value_counts()"
      ],
      "execution_count": null,
      "outputs": [
        {
          "output_type": "execute_result",
          "data": {
            "text/plain": [
              "Do Not Notify    119879\n",
              "Send Email          119\n",
              "Name: notify, dtype: int64"
            ]
          },
          "metadata": {},
          "execution_count": 31
        }
      ]
    },
    {
      "cell_type": "code",
      "metadata": {
        "id": "b7rVnzDaJf5U"
      },
      "source": [
        "df['opened_at'] = pd.to_datetime(df['opened_at'], dayfirst=True)\n",
        "df['resolved_at'] = pd.to_datetime(df['resolved_at'], dayfirst=True)\n",
        "df['sys_updated_at'] = pd.to_datetime(df['sys_updated_at'], dayfirst=True)\n",
        "df['closed_at'] = pd.to_datetime(df['closed_at'], dayfirst=True)"
      ],
      "execution_count": 137,
      "outputs": []
    },
    {
      "cell_type": "code",
      "metadata": {
        "id": "v_XjhNu6b2EP"
      },
      "source": [
        "df['sys_updated_time'] = pd.to_timedelta(df['sys_updated_at'] - df['opened_at'])\n",
        "df['resolution_time'] = pd.to_timedelta(df['resolved_at'] - df['opened_at'])\n",
        "df['close_time'] = pd.to_timedelta(df['closed_at'] - df['resolved_at'])"
      ],
      "execution_count": 138,
      "outputs": []
    },
    {
      "cell_type": "code",
      "metadata": {
        "id": "TaD6nrnH75e5"
      },
      "source": [
        "# Converting to numeric form of days\n",
        "df['sys_updated_days'] = df['sys_updated_time']/np.timedelta64(1,'D')\n",
        "df['resolution_days'] = df['resolution_time']/np.timedelta64(1,'D')\n",
        "df['close_days'] = df['close_time']/np.timedelta64(1,'D')"
      ],
      "execution_count": 139,
      "outputs": []
    },
    {
      "cell_type": "code",
      "metadata": {
        "colab": {
          "base_uri": "https://localhost:8080/"
        },
        "id": "G3sJsVbU-Sns",
        "outputId": "74463184-1775-4f7c-c4ab-155101deeb0f"
      },
      "source": [
        "df['sys_updated_time'].describe(), df['resolution_time'].describe(), df['close_time'].describe()"
      ],
      "execution_count": 143,
      "outputs": [
        {
          "output_type": "execute_result",
          "data": {
            "text/plain": [
              "(count                        119998\n",
              " mean      6 days 18:13:15.289754832\n",
              " std      18 days 11:40:08.227624249\n",
              " min               -1 days +21:33:00\n",
              " 25%                 0 days 00:17:00\n",
              " 50%                 1 days 01:48:00\n",
              " 75%                 6 days 03:45:45\n",
              " max               341 days 06:37:00\n",
              " Name: sys_updated_time, dtype: object, count                        117137\n",
              " mean     11 days 16:13:41.364897537\n",
              " std      27 days 18:12:45.906407323\n",
              " min                 0 days 00:00:00\n",
              " 25%                 0 days 05:40:00\n",
              " 50%                 3 days 10:56:00\n",
              " 75%                11 days 09:22:00\n",
              " max               336 days 06:10:00\n",
              " Name: resolution_time, dtype: object, count                       117137\n",
              " mean     6 days 05:58:46.527570289\n",
              " std      5 days 17:08:36.406066792\n",
              " min                0 days 00:00:00\n",
              " 25%                5 days 00:16:00\n",
              " 50%                5 days 00:35:00\n",
              " 75%                5 days 00:53:00\n",
              " max              243 days 19:39:00\n",
              " Name: close_time, dtype: object)"
            ]
          },
          "metadata": {},
          "execution_count": 143
        }
      ]
    },
    {
      "cell_type": "code",
      "metadata": {
        "id": "614KLOsutZ5n",
        "colab": {
          "base_uri": "https://localhost:8080/",
          "height": 457
        },
        "outputId": "d45952aa-8725-4af1-faa0-9bceeac45c34"
      },
      "source": [
        "# sns.FacetGrid(df, hue='urgency', size=5).map(sns.distplot, \"resolution_days\").add_legend();\n",
        "# plt.show()\n",
        "sns.FacetGrid(df, size=5).map(sns.distplot, \"resolution_days\").add_legend();\n",
        "plt.show()"
      ],
      "execution_count": 136,
      "outputs": [
        {
          "output_type": "stream",
          "name": "stderr",
          "text": [
            "/usr/local/lib/python3.7/dist-packages/seaborn/axisgrid.py:337: UserWarning: The `size` parameter has been renamed to `height`; please update your code.\n",
            "  warnings.warn(msg, UserWarning)\n",
            "/usr/local/lib/python3.7/dist-packages/seaborn/distributions.py:2619: FutureWarning: `distplot` is a deprecated function and will be removed in a future version. Please adapt your code to use either `displot` (a figure-level function with similar flexibility) or `histplot` (an axes-level function for histograms).\n",
            "  warnings.warn(msg, FutureWarning)\n"
          ]
        },
        {
          "output_type": "display_data",
          "data": {
            "image/png": "[encoded data removed]",
            "text/plain": [
              "<Figure size 368x360 with 1 Axes>"
            ]
          },
          "metadata": {
            "needs_background": "light"
          }
        }
      ]
    },
    {
      "cell_type": "code",
      "metadata": {
        "colab": {
          "base_uri": "https://localhost:8080/",
          "height": 877
        },
        "id": "hZ7JG_PK9Z3B",
        "outputId": "2be108e6-8f93-4187-e5d9-01473206fb7d"
      },
      "source": [
        "sns.FacetGrid(df, size=5).map(sns.distplot, \"sys_updated_days\").add_legend();\n",
        "plt.show()\n",
        "sns.FacetGrid(df, size=5).map(sns.distplot, \"close_days\").add_legend();\n",
        "plt.show()"
      ],
      "execution_count": 140,
      "outputs": [
        {
          "output_type": "stream",
          "name": "stderr",
          "text": [
            "/usr/local/lib/python3.7/dist-packages/seaborn/axisgrid.py:337: UserWarning: The `size` parameter has been renamed to `height`; please update your code.\n",
            "  warnings.warn(msg, UserWarning)\n",
            "/usr/local/lib/python3.7/dist-packages/seaborn/distributions.py:2619: FutureWarning: `distplot` is a deprecated function and will be removed in a future version. Please adapt your code to use either `displot` (a figure-level function with similar flexibility) or `histplot` (an axes-level function for histograms).\n",
            "  warnings.warn(msg, FutureWarning)\n"
          ]
        },
        {
          "output_type": "display_data",
          "data": {
            "image/png": "[encoded data removed]",
            "text/plain": [
              "<Figure size 368x360 with 1 Axes>"
            ]
          },
          "metadata": {
            "needs_background": "light"
          }
        },
        {
          "output_type": "stream",
          "name": "stderr",
          "text": [
            "/usr/local/lib/python3.7/dist-packages/seaborn/axisgrid.py:337: UserWarning: The `size` parameter has been renamed to `height`; please update your code.\n",
            "  warnings.warn(msg, UserWarning)\n",
            "/usr/local/lib/python3.7/dist-packages/seaborn/distributions.py:2619: FutureWarning: `distplot` is a deprecated function and will be removed in a future version. Please adapt your code to use either `displot` (a figure-level function with similar flexibility) or `histplot` (an axes-level function for histograms).\n",
            "  warnings.warn(msg, FutureWarning)\n"
          ]
        },
        {
          "output_type": "display_data",
          "data": {
            "image/png": "[encoded data removed]",
            "text/plain": [
              "<Figure size 368x360 with 1 Axes>"
            ]
          },
          "metadata": {
            "needs_background": "light"
          }
        }
      ]
    },
    {
      "cell_type": "code",
      "metadata": {
        "colab": {
          "base_uri": "https://localhost:8080/",
          "height": 193
        },
        "id": "U8HjYAB-OIqh",
        "outputId": "f08cf4ed-7683-4c25-e38c-81e9cd42920e"
      },
      "source": [
        "g = sns.PairGrid(df, y_vars = ['resolution_days'], x_vars = ['reassignment_count'], hue = 'urgency', aspect=2).add_legend()\n",
        "ax = g.map(plt.scatter, alpha=0.6)"
      ],
      "execution_count": 210,
      "outputs": [
        {
          "output_type": "display_data",
          "data": {
            "image/png": "[encoded data removed]",
            "text/plain": [
              "<Figure size 452.25x180 with 1 Axes>"
            ]
          },
          "metadata": {
            "needs_background": "light"
          }
        }
      ]
    },
    {
      "cell_type": "code",
      "metadata": {
        "colab": {
          "base_uri": "https://localhost:8080/",
          "height": 193
        },
        "id": "3RYahawn8ahm",
        "outputId": "d9110275-08d4-4f32-dd3d-5258419b8fbb"
      },
      "source": [
        "g = sns.PairGrid(df, y_vars = ['resolution_days'], x_vars = ['reopen_count'], hue = 'urgency', aspect=2).add_legend()\n",
        "ax = g.map(plt.scatter, alpha=0.6)"
      ],
      "execution_count": 211,
      "outputs": [
        {
          "output_type": "display_data",
          "data": {
            "image/png": "[encoded data removed]",
            "text/plain": [
              "<Figure size 452.25x180 with 1 Axes>"
            ]
          },
          "metadata": {
            "needs_background": "light"
          }
        }
      ]
    },
    {
      "cell_type": "code",
      "metadata": {
        "colab": {
          "base_uri": "https://localhost:8080/",
          "height": 193
        },
        "id": "FgcxT5MPOxWl",
        "outputId": "69cf1f69-978f-4d4c-a0de-334fb4b21e1a"
      },
      "source": [
        "g = sns.PairGrid(df, y_vars = ['resolution_days'], x_vars = ['sys_mod_count'], hue = 'urgency', aspect=2).add_legend()\n",
        "ax = g.map(plt.scatter, alpha=0.6)"
      ],
      "execution_count": 212,
      "outputs": [
        {
          "output_type": "display_data",
          "data": {
            "image/png": "[encoded data removed]",
            "text/plain": [
              "<Figure size 452.25x180 with 1 Axes>"
            ]
          },
          "metadata": {
            "needs_background": "light"
          }
        }
      ]
    },
    {
      "cell_type": "code",
      "metadata": {
        "colab": {
          "base_uri": "https://localhost:8080/",
          "height": 193
        },
        "id": "bkKGJTILPEl0",
        "outputId": "4f0a60d6-c8f6-401a-fc10-94246be4b981"
      },
      "source": [
        "g = sns.PairGrid(df, y_vars = ['resolution_days'], x_vars = ['sys_updated_days'], hue = 'urgency', aspect=2).add_legend()\n",
        "ax = g.map(plt.scatter, alpha=0.6)"
      ],
      "execution_count": 213,
      "outputs": [
        {
          "output_type": "display_data",
          "data": {
            "image/png": "[encoded data removed]",
            "text/plain": [
              "<Figure size 452.25x180 with 1 Axes>"
            ]
          },
          "metadata": {
            "needs_background": "light"
          }
        }
      ]
    },
    {
      "cell_type": "markdown",
      "metadata": {
        "id": "fiN4dtg6Sz8s"
      },
      "source": [
        " sys_updated_days and sys_mod_count are proportional to resolution days"
      ]
    },
    {
      "cell_type": "code",
      "metadata": {
        "colab": {
          "base_uri": "https://localhost:8080/"
        },
        "id": "L2NYjdUw8ZJf",
        "outputId": "fa4c7b94-9c40-4114-aeb7-a6d2db7874bb"
      },
      "source": [
        "print(df[df['urgency'] == '1 - High']['resolution_time'].describe())\n",
        "print(df[df['urgency'] == '2 - Medium']['resolution_time'].describe())\n",
        "print(df[df['urgency'] == '3 - Low']['resolution_time'].describe())"
      ],
      "execution_count": 144,
      "outputs": [
        {
          "output_type": "stream",
          "name": "stdout",
          "text": [
            "count                          3303\n",
            "mean      9 days 14:05:53.969118982\n",
            "std      19 days 05:15:43.968155115\n",
            "min                 0 days 00:03:00\n",
            "25%                 0 days 19:41:00\n",
            "50%                 3 days 22:08:00\n",
            "75%                12 days 01:43:00\n",
            "max               210 days 16:29:00\n",
            "Name: resolution_time, dtype: object\n",
            "count                        110869\n",
            "mean     11 days 13:40:13.819011665\n",
            "std      27 days 09:18:32.695428875\n",
            "min                 0 days 00:00:00\n",
            "25%                 0 days 05:35:00\n",
            "50%                 3 days 10:13:00\n",
            "75%                11 days 05:47:00\n",
            "max               336 days 06:10:00\n",
            "Name: resolution_time, dtype: object\n",
            "count                          2965\n",
            "mean     17 days 23:42:35.332209106\n",
            "std      44 days 00:34:34.200277899\n",
            "min                 0 days 00:00:00\n",
            "25%                 0 days 02:06:00\n",
            "50%                 3 days 05:26:00\n",
            "75%                13 days 11:47:00\n",
            "max               304 days 20:27:00\n",
            "Name: resolution_time, dtype: object\n"
          ]
        }
      ]
    },
    {
      "cell_type": "code",
      "metadata": {
        "id": "nLBaS66CAren"
      },
      "source": [
        "### High urgency incidents take average of 9 days to resolve where as Medium urgent incidents take average of 11 days \n",
        "### and low urgent take 17 days to resolve the issue."
      ],
      "execution_count": 145,
      "outputs": []
    },
    {
      "cell_type": "code",
      "metadata": {
        "colab": {
          "base_uri": "https://localhost:8080/"
        },
        "id": "R2erFML_AqY5",
        "outputId": "a02083df-783f-40a1-d24f-1bf35116f995"
      },
      "source": [
        "print(df[df['urgency'] == '1 - High']['close_time'].describe())"
      ],
      "execution_count": 146,
      "outputs": [
        {
          "output_type": "stream",
          "name": "stdout",
          "text": [
            "count                         3303\n",
            "mean     5 days 23:38:57.329700272\n",
            "std      8 days 10:39:35.075619035\n",
            "min                0 days 00:00:00\n",
            "25%                5 days 00:12:00\n",
            "50%                5 days 00:32:00\n",
            "75%                5 days 00:49:00\n",
            "max              187 days 08:45:00\n",
            "Name: close_time, dtype: object\n"
          ]
        }
      ]
    },
    {
      "cell_type": "markdown",
      "metadata": {
        "id": "hO2n-MBvtcLE"
      },
      "source": [
        "# 3. Predictive Model for resolution time"
      ]
    },
    {
      "cell_type": "code",
      "metadata": {
        "id": "yDmR6xkSh9E2"
      },
      "source": [
        "df_res = df[['incident_state','reassignment_count','reopen_count','sys_mod_count','impact','urgency','category',\n",
        "             'knowledge','sys_updated_days','resolution_days']]"
      ],
      "execution_count": 151,
      "outputs": []
    },
    {
      "cell_type": "code",
      "metadata": {
        "colab": {
          "base_uri": "https://localhost:8080/"
        },
        "id": "hnt_qytMhmFG",
        "outputId": "291f9dc5-ed4b-4897-bc7c-89dd8af42c44"
      },
      "source": [
        "df_res.shape"
      ],
      "execution_count": 152,
      "outputs": [
        {
          "output_type": "execute_result",
          "data": {
            "text/plain": [
              "(119998, 10)"
            ]
          },
          "metadata": {},
          "execution_count": 152
        }
      ]
    },
    {
      "cell_type": "code",
      "metadata": {
        "colab": {
          "base_uri": "https://localhost:8080/"
        },
        "id": "H_3paZORmajv",
        "outputId": "efc91774-00d0-4070-c520-03c383ef8c82"
      },
      "source": [
        "df_res.dropna(inplace=True)"
      ],
      "execution_count": 153,
      "outputs": [
        {
          "output_type": "stream",
          "name": "stderr",
          "text": [
            "/usr/local/lib/python3.7/dist-packages/ipykernel_launcher.py:1: SettingWithCopyWarning: \n",
            "A value is trying to be set on a copy of a slice from a DataFrame\n",
            "\n",
            "See the caveats in the documentation: https://pandas.pydata.org/pandas-docs/stable/user_guide/indexing.html#returning-a-view-versus-a-copy\n",
            "  \"\"\"Entry point for launching an IPython kernel.\n"
          ]
        }
      ]
    },
    {
      "cell_type": "code",
      "metadata": {
        "colab": {
          "base_uri": "https://localhost:8080/"
        },
        "id": "wAeIw1MJmemE",
        "outputId": "3da8316b-eaf1-4591-ce48-ca1b36b701ea"
      },
      "source": [
        "df_res.shape"
      ],
      "execution_count": 154,
      "outputs": [
        {
          "output_type": "execute_result",
          "data": {
            "text/plain": [
              "(117073, 10)"
            ]
          },
          "metadata": {},
          "execution_count": 154
        }
      ]
    },
    {
      "cell_type": "code",
      "metadata": {
        "colab": {
          "base_uri": "https://localhost:8080/"
        },
        "id": "WCoHVZbpsGtV",
        "outputId": "bee27f33-1ef7-479b-ee26-3837c864c960"
      },
      "source": [
        "dic = {'Awaiting User Info':'other','Awaiting Vendor': 'other','Awaiting Problem':'other','Awaiting Evidence':'other','-100':'other'}\n",
        "df_res['incident_state'].replace(dic, inplace=True)"
      ],
      "execution_count": 155,
      "outputs": [
        {
          "output_type": "stream",
          "name": "stderr",
          "text": [
            "/usr/local/lib/python3.7/dist-packages/pandas/core/series.py:4582: SettingWithCopyWarning: \n",
            "A value is trying to be set on a copy of a slice from a DataFrame\n",
            "\n",
            "See the caveats in the documentation: https://pandas.pydata.org/pandas-docs/stable/user_guide/indexing.html#returning-a-view-versus-a-copy\n",
            "  method=method,\n"
          ]
        }
      ]
    },
    {
      "cell_type": "code",
      "metadata": {
        "colab": {
          "base_uri": "https://localhost:8080/"
        },
        "id": "aypr-bUWDi-z",
        "outputId": "efd70e1b-b86f-4a3e-8f29-d9e2d8855162"
      },
      "source": [
        "df_res['category'].value_counts().tail(26).sum()/df_res['category'].value_counts().sum()"
      ],
      "execution_count": 156,
      "outputs": [
        {
          "output_type": "execute_result",
          "data": {
            "text/plain": [
              "0.07448344195501952"
            ]
          },
          "metadata": {},
          "execution_count": 156
        }
      ]
    },
    {
      "cell_type": "code",
      "metadata": {
        "colab": {
          "base_uri": "https://localhost:8080/"
        },
        "id": "8B-UrYCRcEvZ",
        "outputId": "eebc0914-4b43-4a05-eb4c-009ece898fd4"
      },
      "source": [
        "## Cumulative frequency of last 26 categories summing to nearly 5% of total frequency. So combining them all and renamng as other category\n",
        "dic3 = dict()\n",
        "for i in df_res['category'].value_counts().tail(26).keys():\n",
        "    dic3[i] = 'other'\n",
        "# dic3\n",
        "df_res['category'].replace(dic3, inplace=True)"
      ],
      "execution_count": 157,
      "outputs": [
        {
          "output_type": "stream",
          "name": "stderr",
          "text": [
            "/usr/local/lib/python3.7/dist-packages/pandas/core/series.py:4582: SettingWithCopyWarning: \n",
            "A value is trying to be set on a copy of a slice from a DataFrame\n",
            "\n",
            "See the caveats in the documentation: https://pandas.pydata.org/pandas-docs/stable/user_guide/indexing.html#returning-a-view-versus-a-copy\n",
            "  method=method,\n"
          ]
        }
      ]
    },
    {
      "cell_type": "code",
      "metadata": {
        "id": "pzj1N4pbuXgg"
      },
      "source": [
        "df_res2 = pd.get_dummies(df_res, columns=['incident_state','impact','urgency','knowledge','category'], drop_first=True)"
      ],
      "execution_count": 158,
      "outputs": []
    },
    {
      "cell_type": "code",
      "metadata": {
        "colab": {
          "base_uri": "https://localhost:8080/"
        },
        "id": "ThxZmLuWDb7A",
        "outputId": "daca0596-5a9b-4fb9-d283-b0f13781ed2d"
      },
      "source": [
        "df_res2.shape"
      ],
      "execution_count": 159,
      "outputs": [
        {
          "output_type": "execute_result",
          "data": {
            "text/plain": [
              "(117073, 31)"
            ]
          },
          "metadata": {},
          "execution_count": 159
        }
      ]
    },
    {
      "cell_type": "code",
      "metadata": {
        "colab": {
          "base_uri": "https://localhost:8080/",
          "height": 241
        },
        "id": "jHomo4TZieLp",
        "outputId": "651f7d4d-9a1f-43a4-a8fa-01cac3f2280d"
      },
      "source": [
        "df_res2.head(5)"
      ],
      "execution_count": 160,
      "outputs": [
        {
          "output_type": "execute_result",
          "data": {
            "text/html": [
              "<div>\n",
              "<style scoped>\n",
              "    .dataframe tbody tr th:only-of-type {\n",
              "        vertical-align: middle;\n",
              "    }\n",
              "\n",
              "    .dataframe tbody tr th {\n",
              "        vertical-align: top;\n",
              "    }\n",
              "\n",
              "    .dataframe thead th {\n",
              "        text-align: right;\n",
              "    }\n",
              "</style>\n",
              "<table border=\"1\" class=\"dataframe\">\n",
              "  <thead>\n",
              "    <tr style=\"text-align: right;\">\n",
              "      <th></th>\n",
              "      <th>reassignment_count</th>\n",
              "      <th>reopen_count</th>\n",
              "      <th>sys_mod_count</th>\n",
              "      <th>sys_updated_days</th>\n",
              "      <th>resolution_days</th>\n",
              "      <th>incident_state_Closed</th>\n",
              "      <th>incident_state_New</th>\n",
              "      <th>incident_state_Resolved</th>\n",
              "      <th>incident_state_other</th>\n",
              "      <th>impact_2 - Medium</th>\n",
              "      <th>impact_3 - Low</th>\n",
              "      <th>urgency_2 - Medium</th>\n",
              "      <th>urgency_3 - Low</th>\n",
              "      <th>knowledge_True</th>\n",
              "      <th>category_Category 23</th>\n",
              "      <th>category_Category 24</th>\n",
              "      <th>category_Category 26</th>\n",
              "      <th>category_Category 28</th>\n",
              "      <th>category_Category 32</th>\n",
              "      <th>category_Category 34</th>\n",
              "      <th>category_Category 37</th>\n",
              "      <th>category_Category 40</th>\n",
              "      <th>category_Category 42</th>\n",
              "      <th>category_Category 45</th>\n",
              "      <th>category_Category 46</th>\n",
              "      <th>category_Category 51</th>\n",
              "      <th>category_Category 53</th>\n",
              "      <th>category_Category 57</th>\n",
              "      <th>category_Category 61</th>\n",
              "      <th>category_Category 9</th>\n",
              "      <th>category_other</th>\n",
              "    </tr>\n",
              "  </thead>\n",
              "  <tbody>\n",
              "    <tr>\n",
              "      <th>0</th>\n",
              "      <td>0</td>\n",
              "      <td>0</td>\n",
              "      <td>0</td>\n",
              "      <td>0.004861</td>\n",
              "      <td>0.425694</td>\n",
              "      <td>0</td>\n",
              "      <td>1</td>\n",
              "      <td>0</td>\n",
              "      <td>0</td>\n",
              "      <td>1</td>\n",
              "      <td>0</td>\n",
              "      <td>1</td>\n",
              "      <td>0</td>\n",
              "      <td>1</td>\n",
              "      <td>0</td>\n",
              "      <td>0</td>\n",
              "      <td>0</td>\n",
              "      <td>0</td>\n",
              "      <td>0</td>\n",
              "      <td>0</td>\n",
              "      <td>0</td>\n",
              "      <td>0</td>\n",
              "      <td>0</td>\n",
              "      <td>0</td>\n",
              "      <td>0</td>\n",
              "      <td>0</td>\n",
              "      <td>0</td>\n",
              "      <td>0</td>\n",
              "      <td>0</td>\n",
              "      <td>0</td>\n",
              "      <td>1</td>\n",
              "    </tr>\n",
              "    <tr>\n",
              "      <th>1</th>\n",
              "      <td>0</td>\n",
              "      <td>0</td>\n",
              "      <td>2</td>\n",
              "      <td>0.317361</td>\n",
              "      <td>0.425694</td>\n",
              "      <td>0</td>\n",
              "      <td>0</td>\n",
              "      <td>1</td>\n",
              "      <td>0</td>\n",
              "      <td>1</td>\n",
              "      <td>0</td>\n",
              "      <td>1</td>\n",
              "      <td>0</td>\n",
              "      <td>1</td>\n",
              "      <td>0</td>\n",
              "      <td>0</td>\n",
              "      <td>0</td>\n",
              "      <td>0</td>\n",
              "      <td>0</td>\n",
              "      <td>0</td>\n",
              "      <td>0</td>\n",
              "      <td>0</td>\n",
              "      <td>0</td>\n",
              "      <td>0</td>\n",
              "      <td>0</td>\n",
              "      <td>0</td>\n",
              "      <td>0</td>\n",
              "      <td>0</td>\n",
              "      <td>0</td>\n",
              "      <td>0</td>\n",
              "      <td>1</td>\n",
              "    </tr>\n",
              "    <tr>\n",
              "      <th>2</th>\n",
              "      <td>0</td>\n",
              "      <td>0</td>\n",
              "      <td>3</td>\n",
              "      <td>0.425694</td>\n",
              "      <td>0.425694</td>\n",
              "      <td>0</td>\n",
              "      <td>0</td>\n",
              "      <td>1</td>\n",
              "      <td>0</td>\n",
              "      <td>1</td>\n",
              "      <td>0</td>\n",
              "      <td>1</td>\n",
              "      <td>0</td>\n",
              "      <td>1</td>\n",
              "      <td>0</td>\n",
              "      <td>0</td>\n",
              "      <td>0</td>\n",
              "      <td>0</td>\n",
              "      <td>0</td>\n",
              "      <td>0</td>\n",
              "      <td>0</td>\n",
              "      <td>0</td>\n",
              "      <td>0</td>\n",
              "      <td>0</td>\n",
              "      <td>0</td>\n",
              "      <td>0</td>\n",
              "      <td>0</td>\n",
              "      <td>0</td>\n",
              "      <td>0</td>\n",
              "      <td>0</td>\n",
              "      <td>1</td>\n",
              "    </tr>\n",
              "    <tr>\n",
              "      <th>3</th>\n",
              "      <td>0</td>\n",
              "      <td>0</td>\n",
              "      <td>4</td>\n",
              "      <td>5.447222</td>\n",
              "      <td>0.425694</td>\n",
              "      <td>1</td>\n",
              "      <td>0</td>\n",
              "      <td>0</td>\n",
              "      <td>0</td>\n",
              "      <td>1</td>\n",
              "      <td>0</td>\n",
              "      <td>1</td>\n",
              "      <td>0</td>\n",
              "      <td>1</td>\n",
              "      <td>0</td>\n",
              "      <td>0</td>\n",
              "      <td>0</td>\n",
              "      <td>0</td>\n",
              "      <td>0</td>\n",
              "      <td>0</td>\n",
              "      <td>0</td>\n",
              "      <td>0</td>\n",
              "      <td>0</td>\n",
              "      <td>0</td>\n",
              "      <td>0</td>\n",
              "      <td>0</td>\n",
              "      <td>0</td>\n",
              "      <td>0</td>\n",
              "      <td>0</td>\n",
              "      <td>0</td>\n",
              "      <td>1</td>\n",
              "    </tr>\n",
              "    <tr>\n",
              "      <th>4</th>\n",
              "      <td>0</td>\n",
              "      <td>0</td>\n",
              "      <td>0</td>\n",
              "      <td>0.011806</td>\n",
              "      <td>1.216667</td>\n",
              "      <td>0</td>\n",
              "      <td>1</td>\n",
              "      <td>0</td>\n",
              "      <td>0</td>\n",
              "      <td>1</td>\n",
              "      <td>0</td>\n",
              "      <td>1</td>\n",
              "      <td>0</td>\n",
              "      <td>1</td>\n",
              "      <td>0</td>\n",
              "      <td>0</td>\n",
              "      <td>0</td>\n",
              "      <td>0</td>\n",
              "      <td>0</td>\n",
              "      <td>0</td>\n",
              "      <td>0</td>\n",
              "      <td>1</td>\n",
              "      <td>0</td>\n",
              "      <td>0</td>\n",
              "      <td>0</td>\n",
              "      <td>0</td>\n",
              "      <td>0</td>\n",
              "      <td>0</td>\n",
              "      <td>0</td>\n",
              "      <td>0</td>\n",
              "      <td>0</td>\n",
              "    </tr>\n",
              "  </tbody>\n",
              "</table>\n",
              "</div>"
            ],
            "text/plain": [
              "   reassignment_count  reopen_count  sys_mod_count  sys_updated_days  \\\n",
              "0                   0             0              0          0.004861   \n",
              "1                   0             0              2          0.317361   \n",
              "2                   0             0              3          0.425694   \n",
              "3                   0             0              4          5.447222   \n",
              "4                   0             0              0          0.011806   \n",
              "\n",
              "   resolution_days  incident_state_Closed  incident_state_New  \\\n",
              "0         0.425694                      0                   1   \n",
              "1         0.425694                      0                   0   \n",
              "2         0.425694                      0                   0   \n",
              "3         0.425694                      1                   0   \n",
              "4         1.216667                      0                   1   \n",
              "\n",
              "   incident_state_Resolved  incident_state_other  impact_2 - Medium  \\\n",
              "0                        0                     0                  1   \n",
              "1                        1                     0                  1   \n",
              "2                        1                     0                  1   \n",
              "3                        0                     0                  1   \n",
              "4                        0                     0                  1   \n",
              "\n",
              "   impact_3 - Low  urgency_2 - Medium  urgency_3 - Low  knowledge_True  \\\n",
              "0               0                   1                0               1   \n",
              "1               0                   1                0               1   \n",
              "2               0                   1                0               1   \n",
              "3               0                   1                0               1   \n",
              "4               0                   1                0               1   \n",
              "\n",
              "   category_Category 23  category_Category 24  category_Category 26  \\\n",
              "0                     0                     0                     0   \n",
              "1                     0                     0                     0   \n",
              "2                     0                     0                     0   \n",
              "3                     0                     0                     0   \n",
              "4                     0                     0                     0   \n",
              "\n",
              "   category_Category 28  category_Category 32  category_Category 34  \\\n",
              "0                     0                     0                     0   \n",
              "1                     0                     0                     0   \n",
              "2                     0                     0                     0   \n",
              "3                     0                     0                     0   \n",
              "4                     0                     0                     0   \n",
              "\n",
              "   category_Category 37  category_Category 40  category_Category 42  \\\n",
              "0                     0                     0                     0   \n",
              "1                     0                     0                     0   \n",
              "2                     0                     0                     0   \n",
              "3                     0                     0                     0   \n",
              "4                     0                     1                     0   \n",
              "\n",
              "   category_Category 45  category_Category 46  category_Category 51  \\\n",
              "0                     0                     0                     0   \n",
              "1                     0                     0                     0   \n",
              "2                     0                     0                     0   \n",
              "3                     0                     0                     0   \n",
              "4                     0                     0                     0   \n",
              "\n",
              "   category_Category 53  category_Category 57  category_Category 61  \\\n",
              "0                     0                     0                     0   \n",
              "1                     0                     0                     0   \n",
              "2                     0                     0                     0   \n",
              "3                     0                     0                     0   \n",
              "4                     0                     0                     0   \n",
              "\n",
              "   category_Category 9  category_other  \n",
              "0                    0               1  \n",
              "1                    0               1  \n",
              "2                    0               1  \n",
              "3                    0               1  \n",
              "4                    0               0  "
            ]
          },
          "metadata": {},
          "execution_count": 160
        }
      ]
    },
    {
      "cell_type": "code",
      "metadata": {
        "id": "LrMLtygNDeVQ"
      },
      "source": [
        "## Split the data into X and y\n",
        "X = df_res2.copy().drop(\"resolution_days\",axis=1)\n",
        "y = df_res2[\"resolution_days\"]"
      ],
      "execution_count": 161,
      "outputs": []
    },
    {
      "cell_type": "code",
      "metadata": {
        "id": "YX8bNEioF_qF"
      },
      "source": [
        "## Split the data into X_train, X_test, y_train, y_test with test_size = 0.20 using sklearn\n",
        "X_train, X_test, y_train, y_test = train_test_split(X, y, test_size=0.20)"
      ],
      "execution_count": 162,
      "outputs": []
    },
    {
      "cell_type": "code",
      "metadata": {
        "colab": {
          "base_uri": "https://localhost:8080/"
        },
        "id": "U3_ysYVhGE3p",
        "outputId": "faa2b971-b910-4920-9cda-d99e22c7f764"
      },
      "source": [
        "dtr = DecisionTreeRegressor()\n",
        "dtr.fit(X_train,y_train)"
      ],
      "execution_count": 163,
      "outputs": [
        {
          "output_type": "execute_result",
          "data": {
            "text/plain": [
              "DecisionTreeRegressor(ccp_alpha=0.0, criterion='mse', max_depth=None,\n",
              "                      max_features=None, max_leaf_nodes=None,\n",
              "                      min_impurity_decrease=0.0, min_impurity_split=None,\n",
              "                      min_samples_leaf=1, min_samples_split=2,\n",
              "                      min_weight_fraction_leaf=0.0, presort='deprecated',\n",
              "                      random_state=None, splitter='best')"
            ]
          },
          "metadata": {},
          "execution_count": 163
        }
      ]
    },
    {
      "cell_type": "code",
      "metadata": {
        "id": "Ofdi2IKbcPjt"
      },
      "source": [
        "pred_train = dtr.predict(X_train)\n",
        "pred_test = dtr.predict(X_test)"
      ],
      "execution_count": 164,
      "outputs": []
    },
    {
      "cell_type": "code",
      "metadata": {
        "colab": {
          "base_uri": "https://localhost:8080/"
        },
        "id": "C6yRtIMAdUbr",
        "outputId": "2880373e-58b4-4507-a8fb-3a87adcd975c"
      },
      "source": [
        "print(\"Train Error:\", mean_absolute_error(y_train,pred_train))\n",
        "print(\"Test Error:\",mean_absolute_error(y_test,pred_test))"
      ],
      "execution_count": 165,
      "outputs": [
        {
          "output_type": "stream",
          "name": "stdout",
          "text": [
            "Train Error: 1.6365371669937292\n",
            "Test Error: 6.7758560296215204\n"
          ]
        }
      ]
    },
    {
      "cell_type": "markdown",
      "metadata": {
        "id": "PpBDvESJgUEd"
      },
      "source": [
        "### using Random forest regressor with Grid search"
      ]
    },
    {
      "cell_type": "code",
      "metadata": {
        "id": "mbwHsDsygQO-"
      },
      "source": [
        "rfr_grid = RandomForestRegressor(n_jobs=-1, max_features='sqrt')"
      ],
      "execution_count": 166,
      "outputs": []
    },
    {
      "cell_type": "code",
      "metadata": {
        "id": "GD2-x2CEgPiE"
      },
      "source": [
        "param_grid = {\n",
        "    \"n_estimators\" : [9,63,100],\n",
        "    \"max_depth\" : [5,10,20],\n",
        "    \"min_samples_leaf\" : [2,4]\n",
        "}\n",
        "rfr_cv_grid = GridSearchCV(estimator = rfr_grid, param_grid = param_grid)"
      ],
      "execution_count": 167,
      "outputs": []
    },
    {
      "cell_type": "code",
      "metadata": {
        "colab": {
          "base_uri": "https://localhost:8080/"
        },
        "id": "aJY8U_JPhbt9",
        "outputId": "9f7f4391-9fc5-4c7e-fca2-a31d3683e796"
      },
      "source": [
        "rfr_cv_grid.fit(X_train,y_train)"
      ],
      "execution_count": 168,
      "outputs": [
        {
          "output_type": "execute_result",
          "data": {
            "text/plain": [
              "GridSearchCV(cv=None, error_score=nan,\n",
              "             estimator=RandomForestRegressor(bootstrap=True, ccp_alpha=0.0,\n",
              "                                             criterion='mse', max_depth=None,\n",
              "                                             max_features='sqrt',\n",
              "                                             max_leaf_nodes=None,\n",
              "                                             max_samples=None,\n",
              "                                             min_impurity_decrease=0.0,\n",
              "                                             min_impurity_split=None,\n",
              "                                             min_samples_leaf=1,\n",
              "                                             min_samples_split=2,\n",
              "                                             min_weight_fraction_leaf=0.0,\n",
              "                                             n_estimators=100, n_jobs=-1,\n",
              "                                             oob_score=False, random_state=None,\n",
              "                                             verbose=0, warm_start=False),\n",
              "             iid='deprecated', n_jobs=None,\n",
              "             param_grid={'max_depth': [5, 10, 20], 'min_samples_leaf': [2, 4],\n",
              "                         'n_estimators': [9, 63, 100]},\n",
              "             pre_dispatch='2*n_jobs', refit=True, return_train_score=False,\n",
              "             scoring=None, verbose=0)"
            ]
          },
          "metadata": {},
          "execution_count": 168
        }
      ]
    },
    {
      "cell_type": "code",
      "metadata": {
        "colab": {
          "base_uri": "https://localhost:8080/"
        },
        "id": "dc6kBI-jhbJj",
        "outputId": "899b8aae-0256-438d-da1c-e85064872f14"
      },
      "source": [
        "## Print best score and parameters\n",
        "print(rfr_cv_grid.best_score_,rfr_cv_grid.best_params_)"
      ],
      "execution_count": 169,
      "outputs": [
        {
          "output_type": "stream",
          "name": "stdout",
          "text": [
            "0.6250806227002104 {'max_depth': 20, 'min_samples_leaf': 2, 'n_estimators': 63}\n"
          ]
        }
      ]
    },
    {
      "cell_type": "code",
      "metadata": {
        "colab": {
          "base_uri": "https://localhost:8080/"
        },
        "id": "V5VxTek8hnts",
        "outputId": "327dc7a8-4292-456b-9a94-324040e11d05"
      },
      "source": [
        "rfr_fin = RandomForestRegressor(max_depth=20,min_samples_leaf= 2, n_estimators= 63,n_jobs=-1, max_features='sqrt')\n",
        "rfr_fin.fit(X_train,y_train)"
      ],
      "execution_count": 170,
      "outputs": [
        {
          "output_type": "execute_result",
          "data": {
            "text/plain": [
              "RandomForestRegressor(bootstrap=True, ccp_alpha=0.0, criterion='mse',\n",
              "                      max_depth=20, max_features='sqrt', max_leaf_nodes=None,\n",
              "                      max_samples=None, min_impurity_decrease=0.0,\n",
              "                      min_impurity_split=None, min_samples_leaf=2,\n",
              "                      min_samples_split=2, min_weight_fraction_leaf=0.0,\n",
              "                      n_estimators=63, n_jobs=-1, oob_score=False,\n",
              "                      random_state=None, verbose=0, warm_start=False)"
            ]
          },
          "metadata": {},
          "execution_count": 170
        }
      ]
    },
    {
      "cell_type": "code",
      "metadata": {
        "id": "xT6Bx1ZHivnI"
      },
      "source": [
        "pred_train = rfr_fin.predict(X_train)\n",
        "pred_test = rfr_fin.predict(X_test)"
      ],
      "execution_count": 171,
      "outputs": []
    },
    {
      "cell_type": "code",
      "metadata": {
        "colab": {
          "base_uri": "https://localhost:8080/"
        },
        "id": "teeXA2mkhmTc",
        "outputId": "339a2522-0097-478e-9ede-b31502d2d440"
      },
      "source": [
        "print(\"Train Error:\", mean_absolute_error(y_train,pred_train))\n",
        "print(\"Test Error:\",mean_absolute_error(y_test,pred_test))"
      ],
      "execution_count": 172,
      "outputs": [
        {
          "output_type": "stream",
          "name": "stdout",
          "text": [
            "Train Error: 5.807360302491912\n",
            "Test Error: 6.464986280964878\n"
          ]
        }
      ]
    },
    {
      "cell_type": "markdown",
      "metadata": {
        "id": "wAAyoNiFdalt"
      },
      "source": [
        "# 4. Classification MOdel"
      ]
    },
    {
      "cell_type": "code",
      "metadata": {
        "id": "w3YOchNCawNI"
      },
      "source": [
        "df_cls = df[['incident_state','reassignment_count','reopen_count','sys_mod_count','impact','urgency',\n",
        "             'knowledge','sys_updated_days','category']]"
      ],
      "execution_count": 180,
      "outputs": []
    },
    {
      "cell_type": "code",
      "metadata": {
        "colab": {
          "base_uri": "https://localhost:8080/"
        },
        "id": "R3Lzjzpia6ts",
        "outputId": "7e8db2a9-a686-4358-ce55-31ccaabe80fd"
      },
      "source": [
        "dic1 = {'Awaiting User Info':'other','Awaiting Vendor': 'other','Awaiting Problem':'other','Awaiting Evidence':'other','-100':'other'}\n",
        "df_cls3['incident_state'].replace(dic1, inplace=True)"
      ],
      "execution_count": null,
      "outputs": [
        {
          "output_type": "stream",
          "name": "stderr",
          "text": [
            "/usr/local/lib/python3.7/dist-packages/pandas/core/series.py:4582: SettingWithCopyWarning: \n",
            "A value is trying to be set on a copy of a slice from a DataFrame\n",
            "\n",
            "See the caveats in the documentation: https://pandas.pydata.org/pandas-docs/stable/user_guide/indexing.html#returning-a-view-versus-a-copy\n",
            "  method=method,\n"
          ]
        }
      ]
    },
    {
      "cell_type": "code",
      "metadata": {
        "colab": {
          "base_uri": "https://localhost:8080/"
        },
        "id": "hL1jJLtGa7K9",
        "outputId": "bf26c470-2882-4583-aee3-a8a12436788c"
      },
      "source": [
        "dic2 = {'1 - High': 1, '2 - Medium': 0, '3 - Low': 0}\n",
        "df_cls['urgency'].replace(dic2, inplace=True)"
      ],
      "execution_count": 181,
      "outputs": [
        {
          "output_type": "stream",
          "name": "stderr",
          "text": [
            "/usr/local/lib/python3.7/dist-packages/pandas/core/series.py:4582: SettingWithCopyWarning: \n",
            "A value is trying to be set on a copy of a slice from a DataFrame\n",
            "\n",
            "See the caveats in the documentation: https://pandas.pydata.org/pandas-docs/stable/user_guide/indexing.html#returning-a-view-versus-a-copy\n",
            "  method=method,\n"
          ]
        }
      ]
    },
    {
      "cell_type": "code",
      "metadata": {
        "colab": {
          "base_uri": "https://localhost:8080/"
        },
        "id": "tTR-fWt2wj72",
        "outputId": "2cca69f7-4f72-4356-b946-d86db1551ce6"
      },
      "source": [
        "dic3 = dict()\n",
        "for i in df_cls['category'].value_counts().tail(26).keys():\n",
        "    dic3[i] = 'other'\n",
        "# dic3\n",
        "df_cls['category'].replace(dic3, inplace=True)"
      ],
      "execution_count": 182,
      "outputs": [
        {
          "output_type": "stream",
          "name": "stderr",
          "text": [
            "/usr/local/lib/python3.7/dist-packages/pandas/core/series.py:4582: SettingWithCopyWarning: \n",
            "A value is trying to be set on a copy of a slice from a DataFrame\n",
            "\n",
            "See the caveats in the documentation: https://pandas.pydata.org/pandas-docs/stable/user_guide/indexing.html#returning-a-view-versus-a-copy\n",
            "  method=method,\n"
          ]
        }
      ]
    },
    {
      "cell_type": "code",
      "metadata": {
        "id": "Xhg067sZyAl6"
      },
      "source": [
        "df_cls2 = pd.get_dummies(df_cls, columns=['incident_state','impact','knowledge','category'], drop_first=True)"
      ],
      "execution_count": 183,
      "outputs": []
    },
    {
      "cell_type": "code",
      "metadata": {
        "colab": {
          "base_uri": "https://localhost:8080/",
          "height": 241
        },
        "id": "OCRQoOkbzdv7",
        "outputId": "be78d1ee-1c8c-4e7b-9f97-a25fe2365860"
      },
      "source": [
        "df_cls2.head()"
      ],
      "execution_count": 184,
      "outputs": [
        {
          "output_type": "execute_result",
          "data": {
            "text/html": [
              "<div>\n",
              "<style scoped>\n",
              "    .dataframe tbody tr th:only-of-type {\n",
              "        vertical-align: middle;\n",
              "    }\n",
              "\n",
              "    .dataframe tbody tr th {\n",
              "        vertical-align: top;\n",
              "    }\n",
              "\n",
              "    .dataframe thead th {\n",
              "        text-align: right;\n",
              "    }\n",
              "</style>\n",
              "<table border=\"1\" class=\"dataframe\">\n",
              "  <thead>\n",
              "    <tr style=\"text-align: right;\">\n",
              "      <th></th>\n",
              "      <th>reassignment_count</th>\n",
              "      <th>reopen_count</th>\n",
              "      <th>sys_mod_count</th>\n",
              "      <th>urgency</th>\n",
              "      <th>sys_updated_days</th>\n",
              "      <th>incident_state_Active</th>\n",
              "      <th>incident_state_Awaiting Evidence</th>\n",
              "      <th>incident_state_Awaiting Problem</th>\n",
              "      <th>incident_state_Awaiting User Info</th>\n",
              "      <th>incident_state_Awaiting Vendor</th>\n",
              "      <th>incident_state_Closed</th>\n",
              "      <th>incident_state_New</th>\n",
              "      <th>incident_state_Resolved</th>\n",
              "      <th>impact_2 - Medium</th>\n",
              "      <th>impact_3 - Low</th>\n",
              "      <th>knowledge_True</th>\n",
              "      <th>category_Category 23</th>\n",
              "      <th>category_Category 24</th>\n",
              "      <th>category_Category 26</th>\n",
              "      <th>category_Category 28</th>\n",
              "      <th>category_Category 32</th>\n",
              "      <th>category_Category 34</th>\n",
              "      <th>category_Category 35</th>\n",
              "      <th>category_Category 37</th>\n",
              "      <th>category_Category 40</th>\n",
              "      <th>category_Category 42</th>\n",
              "      <th>category_Category 45</th>\n",
              "      <th>category_Category 46</th>\n",
              "      <th>category_Category 51</th>\n",
              "      <th>category_Category 53</th>\n",
              "      <th>category_Category 57</th>\n",
              "      <th>category_Category 61</th>\n",
              "      <th>category_Category 9</th>\n",
              "      <th>category_other</th>\n",
              "    </tr>\n",
              "  </thead>\n",
              "  <tbody>\n",
              "    <tr>\n",
              "      <th>0</th>\n",
              "      <td>0</td>\n",
              "      <td>0</td>\n",
              "      <td>0</td>\n",
              "      <td>0</td>\n",
              "      <td>0.004861</td>\n",
              "      <td>0</td>\n",
              "      <td>0</td>\n",
              "      <td>0</td>\n",
              "      <td>0</td>\n",
              "      <td>0</td>\n",
              "      <td>0</td>\n",
              "      <td>1</td>\n",
              "      <td>0</td>\n",
              "      <td>1</td>\n",
              "      <td>0</td>\n",
              "      <td>1</td>\n",
              "      <td>0</td>\n",
              "      <td>0</td>\n",
              "      <td>0</td>\n",
              "      <td>0</td>\n",
              "      <td>0</td>\n",
              "      <td>0</td>\n",
              "      <td>0</td>\n",
              "      <td>0</td>\n",
              "      <td>0</td>\n",
              "      <td>0</td>\n",
              "      <td>0</td>\n",
              "      <td>0</td>\n",
              "      <td>0</td>\n",
              "      <td>0</td>\n",
              "      <td>0</td>\n",
              "      <td>0</td>\n",
              "      <td>0</td>\n",
              "      <td>1</td>\n",
              "    </tr>\n",
              "    <tr>\n",
              "      <th>1</th>\n",
              "      <td>0</td>\n",
              "      <td>0</td>\n",
              "      <td>2</td>\n",
              "      <td>0</td>\n",
              "      <td>0.317361</td>\n",
              "      <td>0</td>\n",
              "      <td>0</td>\n",
              "      <td>0</td>\n",
              "      <td>0</td>\n",
              "      <td>0</td>\n",
              "      <td>0</td>\n",
              "      <td>0</td>\n",
              "      <td>1</td>\n",
              "      <td>1</td>\n",
              "      <td>0</td>\n",
              "      <td>1</td>\n",
              "      <td>0</td>\n",
              "      <td>0</td>\n",
              "      <td>0</td>\n",
              "      <td>0</td>\n",
              "      <td>0</td>\n",
              "      <td>0</td>\n",
              "      <td>0</td>\n",
              "      <td>0</td>\n",
              "      <td>0</td>\n",
              "      <td>0</td>\n",
              "      <td>0</td>\n",
              "      <td>0</td>\n",
              "      <td>0</td>\n",
              "      <td>0</td>\n",
              "      <td>0</td>\n",
              "      <td>0</td>\n",
              "      <td>0</td>\n",
              "      <td>1</td>\n",
              "    </tr>\n",
              "    <tr>\n",
              "      <th>2</th>\n",
              "      <td>0</td>\n",
              "      <td>0</td>\n",
              "      <td>3</td>\n",
              "      <td>0</td>\n",
              "      <td>0.425694</td>\n",
              "      <td>0</td>\n",
              "      <td>0</td>\n",
              "      <td>0</td>\n",
              "      <td>0</td>\n",
              "      <td>0</td>\n",
              "      <td>0</td>\n",
              "      <td>0</td>\n",
              "      <td>1</td>\n",
              "      <td>1</td>\n",
              "      <td>0</td>\n",
              "      <td>1</td>\n",
              "      <td>0</td>\n",
              "      <td>0</td>\n",
              "      <td>0</td>\n",
              "      <td>0</td>\n",
              "      <td>0</td>\n",
              "      <td>0</td>\n",
              "      <td>0</td>\n",
              "      <td>0</td>\n",
              "      <td>0</td>\n",
              "      <td>0</td>\n",
              "      <td>0</td>\n",
              "      <td>0</td>\n",
              "      <td>0</td>\n",
              "      <td>0</td>\n",
              "      <td>0</td>\n",
              "      <td>0</td>\n",
              "      <td>0</td>\n",
              "      <td>1</td>\n",
              "    </tr>\n",
              "    <tr>\n",
              "      <th>3</th>\n",
              "      <td>0</td>\n",
              "      <td>0</td>\n",
              "      <td>4</td>\n",
              "      <td>0</td>\n",
              "      <td>5.447222</td>\n",
              "      <td>0</td>\n",
              "      <td>0</td>\n",
              "      <td>0</td>\n",
              "      <td>0</td>\n",
              "      <td>0</td>\n",
              "      <td>1</td>\n",
              "      <td>0</td>\n",
              "      <td>0</td>\n",
              "      <td>1</td>\n",
              "      <td>0</td>\n",
              "      <td>1</td>\n",
              "      <td>0</td>\n",
              "      <td>0</td>\n",
              "      <td>0</td>\n",
              "      <td>0</td>\n",
              "      <td>0</td>\n",
              "      <td>0</td>\n",
              "      <td>0</td>\n",
              "      <td>0</td>\n",
              "      <td>0</td>\n",
              "      <td>0</td>\n",
              "      <td>0</td>\n",
              "      <td>0</td>\n",
              "      <td>0</td>\n",
              "      <td>0</td>\n",
              "      <td>0</td>\n",
              "      <td>0</td>\n",
              "      <td>0</td>\n",
              "      <td>1</td>\n",
              "    </tr>\n",
              "    <tr>\n",
              "      <th>4</th>\n",
              "      <td>0</td>\n",
              "      <td>0</td>\n",
              "      <td>0</td>\n",
              "      <td>0</td>\n",
              "      <td>0.011806</td>\n",
              "      <td>0</td>\n",
              "      <td>0</td>\n",
              "      <td>0</td>\n",
              "      <td>0</td>\n",
              "      <td>0</td>\n",
              "      <td>0</td>\n",
              "      <td>1</td>\n",
              "      <td>0</td>\n",
              "      <td>1</td>\n",
              "      <td>0</td>\n",
              "      <td>1</td>\n",
              "      <td>0</td>\n",
              "      <td>0</td>\n",
              "      <td>0</td>\n",
              "      <td>0</td>\n",
              "      <td>0</td>\n",
              "      <td>0</td>\n",
              "      <td>0</td>\n",
              "      <td>0</td>\n",
              "      <td>1</td>\n",
              "      <td>0</td>\n",
              "      <td>0</td>\n",
              "      <td>0</td>\n",
              "      <td>0</td>\n",
              "      <td>0</td>\n",
              "      <td>0</td>\n",
              "      <td>0</td>\n",
              "      <td>0</td>\n",
              "      <td>0</td>\n",
              "    </tr>\n",
              "  </tbody>\n",
              "</table>\n",
              "</div>"
            ],
            "text/plain": [
              "   reassignment_count  reopen_count  sys_mod_count  urgency  sys_updated_days  \\\n",
              "0                   0             0              0        0          0.004861   \n",
              "1                   0             0              2        0          0.317361   \n",
              "2                   0             0              3        0          0.425694   \n",
              "3                   0             0              4        0          5.447222   \n",
              "4                   0             0              0        0          0.011806   \n",
              "\n",
              "   incident_state_Active  incident_state_Awaiting Evidence  \\\n",
              "0                      0                                 0   \n",
              "1                      0                                 0   \n",
              "2                      0                                 0   \n",
              "3                      0                                 0   \n",
              "4                      0                                 0   \n",
              "\n",
              "   incident_state_Awaiting Problem  incident_state_Awaiting User Info  \\\n",
              "0                                0                                  0   \n",
              "1                                0                                  0   \n",
              "2                                0                                  0   \n",
              "3                                0                                  0   \n",
              "4                                0                                  0   \n",
              "\n",
              "   incident_state_Awaiting Vendor  incident_state_Closed  incident_state_New  \\\n",
              "0                               0                      0                   1   \n",
              "1                               0                      0                   0   \n",
              "2                               0                      0                   0   \n",
              "3                               0                      1                   0   \n",
              "4                               0                      0                   1   \n",
              "\n",
              "   incident_state_Resolved  impact_2 - Medium  impact_3 - Low  knowledge_True  \\\n",
              "0                        0                  1               0               1   \n",
              "1                        1                  1               0               1   \n",
              "2                        1                  1               0               1   \n",
              "3                        0                  1               0               1   \n",
              "4                        0                  1               0               1   \n",
              "\n",
              "   category_Category 23  category_Category 24  category_Category 26  \\\n",
              "0                     0                     0                     0   \n",
              "1                     0                     0                     0   \n",
              "2                     0                     0                     0   \n",
              "3                     0                     0                     0   \n",
              "4                     0                     0                     0   \n",
              "\n",
              "   category_Category 28  category_Category 32  category_Category 34  \\\n",
              "0                     0                     0                     0   \n",
              "1                     0                     0                     0   \n",
              "2                     0                     0                     0   \n",
              "3                     0                     0                     0   \n",
              "4                     0                     0                     0   \n",
              "\n",
              "   category_Category 35  category_Category 37  category_Category 40  \\\n",
              "0                     0                     0                     0   \n",
              "1                     0                     0                     0   \n",
              "2                     0                     0                     0   \n",
              "3                     0                     0                     0   \n",
              "4                     0                     0                     1   \n",
              "\n",
              "   category_Category 42  category_Category 45  category_Category 46  \\\n",
              "0                     0                     0                     0   \n",
              "1                     0                     0                     0   \n",
              "2                     0                     0                     0   \n",
              "3                     0                     0                     0   \n",
              "4                     0                     0                     0   \n",
              "\n",
              "   category_Category 51  category_Category 53  category_Category 57  \\\n",
              "0                     0                     0                     0   \n",
              "1                     0                     0                     0   \n",
              "2                     0                     0                     0   \n",
              "3                     0                     0                     0   \n",
              "4                     0                     0                     0   \n",
              "\n",
              "   category_Category 61  category_Category 9  category_other  \n",
              "0                     0                    0               1  \n",
              "1                     0                    0               1  \n",
              "2                     0                    0               1  \n",
              "3                     0                    0               1  \n",
              "4                     0                    0               0  "
            ]
          },
          "metadata": {},
          "execution_count": 184
        }
      ]
    },
    {
      "cell_type": "code",
      "metadata": {
        "id": "dAsVHT8cwmMn"
      },
      "source": [
        "## Split the data into X and y\n",
        "X = df_cls2.copy().drop(\"urgency\",axis=1)\n",
        "y = df_cls2[\"urgency\"]"
      ],
      "execution_count": 185,
      "outputs": []
    },
    {
      "cell_type": "code",
      "metadata": {
        "id": "qI0mKtYQxVxn"
      },
      "source": [
        "## Split the data into X_train, X_test, y_train, y_test with test_size = 0.20 using sklearn\n",
        "X_train, X_test, y_train, y_test = train_test_split(X, y, test_size=0.20)"
      ],
      "execution_count": 186,
      "outputs": []
    },
    {
      "cell_type": "code",
      "metadata": {
        "colab": {
          "base_uri": "https://localhost:8080/"
        },
        "id": "aXz9QRABc7e7",
        "outputId": "88451856-1692-4952-ff26-94c368f9829c"
      },
      "source": [
        "## Scale the numeric attributes\n",
        "scaler = StandardScaler()\n",
        "scaler.fit(X_train[['reassignment_count','reopen_count','sys_mod_count','sys_updated_days']])"
      ],
      "execution_count": 187,
      "outputs": [
        {
          "output_type": "execute_result",
          "data": {
            "text/plain": [
              "StandardScaler(copy=True, with_mean=True, with_std=True)"
            ]
          },
          "metadata": {},
          "execution_count": 187
        }
      ]
    },
    {
      "cell_type": "code",
      "metadata": {
        "colab": {
          "base_uri": "https://localhost:8080/"
        },
        "id": "xn5tdWUedGRq",
        "outputId": "d9ae2bea-fa5d-4a30-e2cd-2afb4ccd0b03"
      },
      "source": [
        "X_train[['reassignment_count','reopen_count','sys_mod_count','sys_updated_days']] = scaler.transform(X_train[['reassignment_count','reopen_count','sys_mod_count','sys_updated_days']])\n",
        "X_test[['reassignment_count','reopen_count','sys_mod_count','sys_updated_days']] = scaler.transform(X_test[['reassignment_count','reopen_count','sys_mod_count','sys_updated_days']])"
      ],
      "execution_count": 188,
      "outputs": [
        {
          "output_type": "stream",
          "name": "stderr",
          "text": [
            "/usr/local/lib/python3.7/dist-packages/ipykernel_launcher.py:1: SettingWithCopyWarning: \n",
            "A value is trying to be set on a copy of a slice from a DataFrame.\n",
            "Try using .loc[row_indexer,col_indexer] = value instead\n",
            "\n",
            "See the caveats in the documentation: https://pandas.pydata.org/pandas-docs/stable/user_guide/indexing.html#returning-a-view-versus-a-copy\n",
            "  \"\"\"Entry point for launching an IPython kernel.\n",
            "/usr/local/lib/python3.7/dist-packages/pandas/core/indexing.py:1734: SettingWithCopyWarning: \n",
            "A value is trying to be set on a copy of a slice from a DataFrame.\n",
            "Try using .loc[row_indexer,col_indexer] = value instead\n",
            "\n",
            "See the caveats in the documentation: https://pandas.pydata.org/pandas-docs/stable/user_guide/indexing.html#returning-a-view-versus-a-copy\n",
            "  isetter(loc, value[:, i].tolist())\n",
            "/usr/local/lib/python3.7/dist-packages/ipykernel_launcher.py:2: SettingWithCopyWarning: \n",
            "A value is trying to be set on a copy of a slice from a DataFrame.\n",
            "Try using .loc[row_indexer,col_indexer] = value instead\n",
            "\n",
            "See the caveats in the documentation: https://pandas.pydata.org/pandas-docs/stable/user_guide/indexing.html#returning-a-view-versus-a-copy\n",
            "  \n",
            "/usr/local/lib/python3.7/dist-packages/pandas/core/indexing.py:1734: SettingWithCopyWarning: \n",
            "A value is trying to be set on a copy of a slice from a DataFrame.\n",
            "Try using .loc[row_indexer,col_indexer] = value instead\n",
            "\n",
            "See the caveats in the documentation: https://pandas.pydata.org/pandas-docs/stable/user_guide/indexing.html#returning-a-view-versus-a-copy\n",
            "  isetter(loc, value[:, i].tolist())\n"
          ]
        }
      ]
    },
    {
      "cell_type": "code",
      "metadata": {
        "id": "cSd22-3pJ6NF"
      },
      "source": [
        "rfc_grid = RandomForestClassifier(n_jobs=-1, max_features='sqrt', class_weight='balanced')"
      ],
      "execution_count": 190,
      "outputs": []
    },
    {
      "cell_type": "code",
      "metadata": {
        "id": "QEVzWACmJ7Nq"
      },
      "source": [
        "param_grid = {\n",
        "    \"n_estimators\" : [9,63,100],\n",
        "    \"max_depth\" : [5,10,20],\n",
        "    \"min_samples_leaf\" : [2,4]\n",
        "}\n",
        "rfc_cv_grid = GridSearchCV(estimator = rfc_grid, param_grid = param_grid, cv = 10, scoring=\"roc_auc\")"
      ],
      "execution_count": 191,
      "outputs": []
    },
    {
      "cell_type": "code",
      "metadata": {
        "colab": {
          "base_uri": "https://localhost:8080/"
        },
        "id": "jC_nDgl0dSQo",
        "outputId": "708cd305-4ff6-4819-cacb-0ab534eaa4b4"
      },
      "source": [
        "## Fit the grid search model\n",
        "rfc_cv_grid.fit(X = X_train, y = y_train)"
      ],
      "execution_count": 192,
      "outputs": [
        {
          "output_type": "execute_result",
          "data": {
            "text/plain": [
              "GridSearchCV(cv=10, error_score=nan,\n",
              "             estimator=RandomForestClassifier(bootstrap=True, ccp_alpha=0.0,\n",
              "                                              class_weight='balanced',\n",
              "                                              criterion='gini', max_depth=None,\n",
              "                                              max_features='sqrt',\n",
              "                                              max_leaf_nodes=None,\n",
              "                                              max_samples=None,\n",
              "                                              min_impurity_decrease=0.0,\n",
              "                                              min_impurity_split=None,\n",
              "                                              min_samples_leaf=1,\n",
              "                                              min_samples_split=2,\n",
              "                                              min_weight_fraction_leaf=0.0,\n",
              "                                              n_estimators=100, n_jobs=-1,\n",
              "                                              oob_score=False,\n",
              "                                              random_state=None, verbose=0,\n",
              "                                              warm_start=False),\n",
              "             iid='deprecated', n_jobs=None,\n",
              "             param_grid={'max_depth': [5, 10, 20], 'min_samples_leaf': [2, 4],\n",
              "                         'n_estimators': [9, 63, 100]},\n",
              "             pre_dispatch='2*n_jobs', refit=True, return_train_score=False,\n",
              "             scoring='roc_auc', verbose=0)"
            ]
          },
          "metadata": {},
          "execution_count": 192
        }
      ]
    },
    {
      "cell_type": "code",
      "metadata": {
        "colab": {
          "base_uri": "https://localhost:8080/"
        },
        "id": "79yX68wpdfkr",
        "outputId": "04d10e61-0486-4469-c95f-bc16eb928420"
      },
      "source": [
        "## Print best score and parameters\n",
        "print(rfc_cv_grid.best_score_,rfc_cv_grid.best_params_)"
      ],
      "execution_count": 193,
      "outputs": [
        {
          "output_type": "stream",
          "name": "stdout",
          "text": [
            "0.9190175618267116 {'max_depth': 20, 'min_samples_leaf': 4, 'n_estimators': 100}\n"
          ]
        }
      ]
    },
    {
      "cell_type": "code",
      "metadata": {
        "colab": {
          "base_uri": "https://localhost:8080/"
        },
        "id": "rgcyN_wBdm9O",
        "outputId": "8c0712c1-38cb-400f-9539-e21a6e246471"
      },
      "source": [
        "rfc_fin = RandomForestClassifier(max_depth = 20, min_samples_leaf= 4, n_estimators= 100,n_jobs=-1, max_features='sqrt', class_weight='balanced')\n",
        "rfc_fin"
      ],
      "execution_count": 194,
      "outputs": [
        {
          "output_type": "execute_result",
          "data": {
            "text/plain": [
              "RandomForestClassifier(bootstrap=True, ccp_alpha=0.0, class_weight='balanced',\n",
              "                       criterion='gini', max_depth=20, max_features='sqrt',\n",
              "                       max_leaf_nodes=None, max_samples=None,\n",
              "                       min_impurity_decrease=0.0, min_impurity_split=None,\n",
              "                       min_samples_leaf=4, min_samples_split=2,\n",
              "                       min_weight_fraction_leaf=0.0, n_estimators=100,\n",
              "                       n_jobs=-1, oob_score=False, random_state=None, verbose=0,\n",
              "                       warm_start=False)"
            ]
          },
          "metadata": {},
          "execution_count": 194
        }
      ]
    },
    {
      "cell_type": "code",
      "metadata": {
        "colab": {
          "base_uri": "https://localhost:8080/"
        },
        "id": "aKNfaOT5dwrO",
        "outputId": "fc8740e6-abf2-4048-9ad4-b806ca9450a4"
      },
      "source": [
        "rfc_fin.fit(X_train, y_train)\n",
        "rfc_fin.score(X_train, y_train)"
      ],
      "execution_count": 195,
      "outputs": [
        {
          "output_type": "execute_result",
          "data": {
            "text/plain": [
              "0.9751244817600366"
            ]
          },
          "metadata": {},
          "execution_count": 195
        }
      ]
    },
    {
      "cell_type": "code",
      "metadata": {
        "id": "0tNrxIY-dyzy"
      },
      "source": [
        "yf_pred = rfc_fin.predict(X_test)"
      ],
      "execution_count": 196,
      "outputs": []
    },
    {
      "cell_type": "markdown",
      "metadata": {
        "id": "_iP9hmgENFZX"
      },
      "source": [
        "#### metrics used for Evaluation is roc_auc_score since it is imbalanced data"
      ]
    },
    {
      "cell_type": "code",
      "metadata": {
        "colab": {
          "base_uri": "https://localhost:8080/"
        },
        "id": "EneGYR9meMXk",
        "outputId": "f7a50f9f-42b8-487c-8c99-9cf6abca81c9"
      },
      "source": [
        "roc_auc_score(y_test,yf_pred),accuracy_score(y_test,yf_pred),recall_score(y_test,yf_pred)"
      ],
      "execution_count": 201,
      "outputs": [
        {
          "output_type": "execute_result",
          "data": {
            "text/plain": [
              "(0.8405668643152597, 0.97225, 0.7015873015873015)"
            ]
          },
          "metadata": {},
          "execution_count": 201
        }
      ]
    },
    {
      "cell_type": "code",
      "metadata": {
        "colab": {
          "base_uri": "https://localhost:8080/"
        },
        "id": "RXjYp_Q3eNzQ",
        "outputId": "f05a2443-a385-4608-ebad-fb2cbc502e42"
      },
      "source": [
        "confusion_matrix(y_test,yf_pred)"
      ],
      "execution_count": 202,
      "outputs": [
        {
          "output_type": "execute_result",
          "data": {
            "text/plain": [
              "array([[22892,   478],\n",
              "       [  188,   442]])"
            ]
          },
          "metadata": {},
          "execution_count": 202
        }
      ]
    },
    {
      "cell_type": "markdown",
      "metadata": {
        "id": "LDtYpaOGNDl2"
      },
      "source": [
        "## 5. recomendatio to reduce resolution time"
      ]
    },
    {
      "cell_type": "code",
      "metadata": {
        "id": "Mi7eeq3UNChc"
      },
      "source": [
        "# For incidents with resolution time more than average, re assignments to be done (reassignment count to be incresed)\n",
        "# and/or incident(sys_mod_count) updated to be increased\n",
        "\n",
        "# This can be justified as the graphs show (from EDA section), incidents with high reassignment_count and \n",
        "# sys_mod_count have resolved in less time"
      ],
      "execution_count": 217,
      "outputs": []
    },
    {
      "cell_type": "code",
      "metadata": {
        "id": "sSnin8CIUdAw"
      },
      "source": [
        ""
      ],
      "execution_count": null,
      "outputs": []
    }
  ]
}